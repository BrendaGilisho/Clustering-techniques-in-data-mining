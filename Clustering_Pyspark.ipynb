{
  "nbformat": 4,
  "nbformat_minor": 0,
  "metadata": {
    "colab": {
      "provenance": [],
      "include_colab_link": true
    },
    "kernelspec": {
      "name": "python3",
      "display_name": "Python 3"
    },
    "language_info": {
      "name": "python"
    },
    "accelerator": "GPU",
    "gpuClass": "standard"
  },
  "cells": [
    {
      "cell_type": "markdown",
      "metadata": {
        "id": "view-in-github",
        "colab_type": "text"
      },
      "source": [
        "<a href=\"https://colab.research.google.com/github/BrendaGilisho/Clustering-techniques-in-data-mining/blob/main/Clustering_Pyspark.ipynb\" target=\"_parent\"><img src=\"https://colab.research.google.com/assets/colab-badge.svg\" alt=\"Open In Colab\"/></a>"
      ]
    },
    {
      "cell_type": "code",
      "source": [
        "# Installing pyspark\n",
        "!pip install pyspark"
      ],
      "metadata": {
        "colab": {
          "base_uri": "https://localhost:8080/"
        },
        "id": "mF6Xm1tpu7gQ",
        "outputId": "48d3b92c-9138-41b1-c9cd-8b89d6bbcc10"
      },
      "execution_count": null,
      "outputs": [
        {
          "output_type": "stream",
          "name": "stdout",
          "text": [
            "Looking in indexes: https://pypi.org/simple, https://us-python.pkg.dev/colab-wheels/public/simple/\n",
            "Requirement already satisfied: pyspark in /usr/local/lib/python3.8/dist-packages (3.3.1)\n",
            "Requirement already satisfied: py4j==0.10.9.5 in /usr/local/lib/python3.8/dist-packages (from pyspark) (0.10.9.5)\n"
          ]
        }
      ]
    },
    {
      "cell_type": "code",
      "source": [
        "# Importing necessary packages\n",
        "from pyspark.ml.clustering import KMeans\n",
        "from pyspark.ml.feature import VectorAssembler\n",
        "from pyspark.sql import SparkSession\n",
        "import pandas as pd\n",
        "import seaborn as sns\n",
        "import matplotlib.pyplot as plt\n",
        "from pyspark.context import SparkContext \n",
        "from google.colab import files\n"
      ],
      "metadata": {
        "id": "QLPYzeObxN7U"
      },
      "execution_count": null,
      "outputs": []
    },
    {
      "cell_type": "code",
      "source": [
        "from google.colab import drive\n",
        "drive.mount('/content/drive')"
      ],
      "metadata": {
        "colab": {
          "base_uri": "https://localhost:8080/"
        },
        "id": "vlQCw5-gLsoa",
        "outputId": "0fea9259-6cdf-4f9c-ea43-0efb9de903cb"
      },
      "execution_count": null,
      "outputs": [
        {
          "output_type": "stream",
          "name": "stdout",
          "text": [
            "Drive already mounted at /content/drive; to attempt to forcibly remount, call drive.mount(\"/content/drive\", force_remount=True).\n"
          ]
        }
      ]
    },
    {
      "cell_type": "code",
      "source": [
        "##upload dataset\n",
        "from pyspark.sql import SparkSession\n",
        "spark = SparkSession.builder\\\n",
        "        .master(\"local\")\\\n",
        "        .appName(\"Colab\")\\\n",
        "        .config('spark.ui.port', '4050')\\\n",
        "        .getOrCreate()"
      ],
      "metadata": {
        "id": "tzOtGrsOL5uF"
      },
      "execution_count": null,
      "outputs": []
    },
    {
      "cell_type": "code",
      "source": [
        "spark"
      ],
      "metadata": {
        "colab": {
          "base_uri": "https://localhost:8080/",
          "height": 219
        },
        "id": "Yb-QcosMMCjN",
        "outputId": "267b0978-513c-4547-a410-7306a4e34077"
      },
      "execution_count": null,
      "outputs": [
        {
          "output_type": "execute_result",
          "data": {
            "text/plain": [
              "<pyspark.sql.session.SparkSession at 0x7f03dc30e1f0>"
            ],
            "text/html": [
              "\n",
              "            <div>\n",
              "                <p><b>SparkSession - in-memory</b></p>\n",
              "                \n",
              "        <div>\n",
              "            <p><b>SparkContext</b></p>\n",
              "\n",
              "            <p><a href=\"http://f6cd30037eb2:4050\">Spark UI</a></p>\n",
              "\n",
              "            <dl>\n",
              "              <dt>Version</dt>\n",
              "                <dd><code>v3.3.1</code></dd>\n",
              "              <dt>Master</dt>\n",
              "                <dd><code>local</code></dd>\n",
              "              <dt>AppName</dt>\n",
              "                <dd><code>Colab</code></dd>\n",
              "            </dl>\n",
              "        </div>\n",
              "        \n",
              "            </div>\n",
              "        "
            ]
          },
          "metadata": {},
          "execution_count": 87
        }
      ]
    },
    {
      "cell_type": "code",
      "source": [
        "data = spark.read.csv('/content/drive/My Drive/Colab Notebooks/Datamining/books - description (1) (1).csv', header=True)\n"
      ],
      "metadata": {
        "id": "2mf9z-MxMFj9"
      },
      "execution_count": null,
      "outputs": []
    },
    {
      "cell_type": "code",
      "source": [
        "data.show(4)"
      ],
      "metadata": {
        "colab": {
          "base_uri": "https://localhost:8080/"
        },
        "id": "Mz4a4uBBMjb2",
        "outputId": "2212a512-1081-494e-9347-64ed4a7197d6"
      },
      "execution_count": null,
      "outputs": [
        {
          "output_type": "stream",
          "name": "stdout",
          "text": [
            "+--------------------+--------------------+--------------------+\n",
            "|             book_id|                name|         description|\n",
            "+--------------------+--------------------+--------------------+\n",
            "|                4833|    The Glass Castle|A tender, moving ...|\n",
            "|Jeannette Walls g...| they lived like ...| moving among Sou...|\n",
            "|               Later| when the money r...| or the romance o...|\n",
            "|What is so astoni...| but that she des...|   but also a tender|\n",
            "+--------------------+--------------------+--------------------+\n",
            "only showing top 4 rows\n",
            "\n"
          ]
        }
      ]
    },
    {
      "cell_type": "code",
      "source": [
        "data.printSchema()"
      ],
      "metadata": {
        "colab": {
          "base_uri": "https://localhost:8080/"
        },
        "id": "qwgAOHr1LaPo",
        "outputId": "b6ef4038-b64a-4987-a13e-4807a14d9121"
      },
      "execution_count": null,
      "outputs": [
        {
          "output_type": "stream",
          "name": "stdout",
          "text": [
            "root\n",
            " |-- book_id: string (nullable = true)\n",
            " |-- name: string (nullable = true)\n",
            " |-- description: string (nullable = true)\n",
            "\n"
          ]
        }
      ]
    },
    {
      "cell_type": "markdown",
      "source": [
        "**Data Preprocessing**"
      ],
      "metadata": {
        "id": "MMGeWOhlPmoq"
      }
    },
    {
      "cell_type": "code",
      "source": [
        "##cast id column to appropriate datatype\n",
        "from pyspark.sql.functions import col\n",
        "\n",
        "data_set = data.filter(col(\"book_id\").cast(\"int\").isNotNull())"
      ],
      "metadata": {
        "id": "Jt0P1QDnNB9y"
      },
      "execution_count": null,
      "outputs": []
    },
    {
      "cell_type": "code",
      "source": [
        "from pyspark.sql.types import IntegerType\n",
        "data_set = data_set.withColumn(\"book_id\", data_set[\"book_id\"].cast(IntegerType()))"
      ],
      "metadata": {
        "id": "faq89jp-PADI"
      },
      "execution_count": null,
      "outputs": []
    },
    {
      "cell_type": "code",
      "source": [
        "data_set.show(20)"
      ],
      "metadata": {
        "colab": {
          "base_uri": "https://localhost:8080/"
        },
        "id": "2tOqwwoPNHjm",
        "outputId": "1be6f109-2d14-49e1-bf66-d646d91fdd07"
      },
      "execution_count": null,
      "outputs": [
        {
          "output_type": "stream",
          "name": "stdout",
          "text": [
            "+-------+--------------------+--------------------+\n",
            "|book_id|                name|         description|\n",
            "+-------+--------------------+--------------------+\n",
            "|   4833|    The Glass Castle|A tender, moving ...|\n",
            "|    590|Night (The Night ...|Born into a Jewis...|\n",
            "|   4264|Angela's Ashes (F...|Imbued on every p...|\n",
            "|   3361|    Eat, Pray, Love |A celebrated writ...|\n",
            "|   4535|Into Thin Air: A ...|\"A bank of clouds...|\n",
            "|    518|Tuesdays with Morrie|Maybe it was a gr...|\n",
            "|   3781|Running with Scis...|The true story of...|\n",
            "|   3190|       Into the Wild|In April 1992 a y...|\n",
            "|   3147|I Know Why the Ca...|\"Sent by their mo...|\n",
            "|    225|\"A Child Called \"...|               #1) \"|\n",
            "|   3035|Chickens, Mules a...|Perhaps if Joe an...|\n",
            "|     99|Persepolis: The S...|Wise, funny, and ...|\n",
            "|   3594|The Autobiography...|\"Through a life o...|\n",
            "|   4971|The Hiding Place:...|At one time Corri...|\n",
            "|   1381|All Creatures Gre...|Delve into the ma...|\n",
            "|   3099|         Confessions|Augustine's Confe...|\n",
            "|     45|Me Talk Pretty On...|David Sedaris' mo...|\n",
            "|   3269|Marley and Me: Li...|John and Jenny we...|\n",
            "|   2786|          John Adams|The enthralling, ...|\n",
            "|   4484|Man's Search for ...|\"Psychiatrist Vik...|\n",
            "+-------+--------------------+--------------------+\n",
            "only showing top 20 rows\n",
            "\n"
          ]
        }
      ]
    },
    {
      "cell_type": "code",
      "source": [
        "data_set.printSchema()"
      ],
      "metadata": {
        "colab": {
          "base_uri": "https://localhost:8080/"
        },
        "id": "mNBHzQ6ON8C4",
        "outputId": "1ed653fa-1ee7-4e20-94b8-385eb5dfab9d"
      },
      "execution_count": null,
      "outputs": [
        {
          "output_type": "stream",
          "name": "stdout",
          "text": [
            "root\n",
            " |-- book_id: integer (nullable = true)\n",
            " |-- name: string (nullable = true)\n",
            " |-- description: string (nullable = true)\n",
            "\n"
          ]
        }
      ]
    },
    {
      "cell_type": "code",
      "source": [
        "###handling missing values\n",
        "# Calculate the number of rows in the DataFrame\n",
        "num_rows = data_set.count()\n",
        "num_rows"
      ],
      "metadata": {
        "colab": {
          "base_uri": "https://localhost:8080/"
        },
        "id": "Q7GQk_B2Ps2b",
        "outputId": "cfcc3ba6-c415-493f-c946-d27420b8b726"
      },
      "execution_count": null,
      "outputs": [
        {
          "output_type": "execute_result",
          "data": {
            "text/plain": [
              "136"
            ]
          },
          "metadata": {},
          "execution_count": 95
        }
      ]
    },
    {
      "cell_type": "code",
      "source": [
        "#show number of missing values in each column\n",
        "# Sum the number of missing values in each column\n",
        "missing_values = [data_set.filter(data_set[col].isNull()).count() for col in data_set.columns]\n",
        "\n",
        "# Print the sum of missing values for each column\n",
        "for col, missing in zip(data_set.columns, missing_values):\n",
        "    print(f\"{col}: {missing}\")"
      ],
      "metadata": {
        "colab": {
          "base_uri": "https://localhost:8080/"
        },
        "id": "qa6WNehnQfIi",
        "outputId": "349cd549-9cc8-4d90-c2fe-0c2e93b5cec1"
      },
      "execution_count": null,
      "outputs": [
        {
          "output_type": "stream",
          "name": "stdout",
          "text": [
            "book_id: 0\n",
            "name: 0\n",
            "description: 0\n"
          ]
        }
      ]
    },
    {
      "cell_type": "code",
      "source": [
        "###normalize\n",
        "##will not do it"
      ],
      "metadata": {
        "id": "Viy5HFu4aXzy"
      },
      "execution_count": null,
      "outputs": []
    },
    {
      "cell_type": "code",
      "source": [
        "##take care of missing values"
      ],
      "metadata": {
        "id": "3jYu65PVakqO"
      },
      "execution_count": null,
      "outputs": []
    },
    {
      "cell_type": "code",
      "source": [
        "##convert to numeric"
      ],
      "metadata": {
        "id": "CFGvgrhoeLkh"
      },
      "execution_count": null,
      "outputs": []
    },
    {
      "cell_type": "code",
      "source": [
        "from pyspark.ml.feature import VectorAssembler, StringIndexer\n",
        "\n",
        "# Convert string columns to numerical values\n",
        "\n",
        "indexer = StringIndexer(inputCol=\"name\", outputCol=\"name_numeric\")\n",
        "dataset = indexer.fit(data_set).transform(data_set)\n",
        "\n",
        "indexer = StringIndexer(inputCol=\"description\", outputCol=\"description_numeric\")\n",
        "dataset = indexer.fit(data_set).transform(data_set)\n"
      ],
      "metadata": {
        "id": "IHpEo1JplNf6"
      },
      "execution_count": null,
      "outputs": []
    },
    {
      "cell_type": "code",
      "source": [
        "dataset.show()"
      ],
      "metadata": {
        "colab": {
          "base_uri": "https://localhost:8080/"
        },
        "id": "fQnBqdGsll_L",
        "outputId": "895f2b7e-2223-42d4-9282-97a6bb8bb1d8"
      },
      "execution_count": null,
      "outputs": [
        {
          "output_type": "stream",
          "name": "stdout",
          "text": [
            "+-------+--------------------+--------------------+-------------------+\n",
            "|book_id|                name|         description|description_numeric|\n",
            "+-------+--------------------+--------------------+-------------------+\n",
            "|   4833|    The Glass Castle|A tender, moving ...|               39.0|\n",
            "|    590|Night (The Night ...|Born into a Jewis...|               52.0|\n",
            "|   4264|Angela's Ashes (F...|Imbued on every p...|               67.0|\n",
            "|   3361|    Eat, Pray, Love |A celebrated writ...|               34.0|\n",
            "|   4535|Into Thin Air: A ...|\"A bank of clouds...|               16.0|\n",
            "|    518|Tuesdays with Morrie|Maybe it was a gr...|               78.0|\n",
            "|   3781|Running with Scis...|The true story of...|               97.0|\n",
            "|   3190|       Into the Wild|In April 1992 a y...|               68.0|\n",
            "|   3147|I Know Why the Ca...|\"Sent by their mo...|               24.0|\n",
            "|    225|\"A Child Called \"...|               #1) \"|               12.0|\n",
            "|   3035|Chickens, Mules a...|Perhaps if Joe an...|               85.0|\n",
            "|     99|Persepolis: The S...|Wise, funny, and ...|              119.0|\n",
            "|   3594|The Autobiography...|\"Through a life o...|               30.0|\n",
            "|   4971|The Hiding Place:...|At one time Corri...|               44.0|\n",
            "|   1381|All Creatures Gre...|Delve into the ma...|               57.0|\n",
            "|   3099|         Confessions|Augustine's Confe...|               47.0|\n",
            "|     45|Me Talk Pretty On...|David Sedaris' mo...|               56.0|\n",
            "|   3269|Marley and Me: Li...|John and Jenny we...|               74.0|\n",
            "|   2786|          John Adams|The enthralling, ...|               90.0|\n",
            "|   4484|Man's Search for ...|\"Psychiatrist Vik...|               21.0|\n",
            "+-------+--------------------+--------------------+-------------------+\n",
            "only showing top 20 rows\n",
            "\n"
          ]
        }
      ]
    },
    {
      "cell_type": "code",
      "source": [
        "from pyspark.ml.feature import OneHotEncoder, StringIndexer\n",
        "from pyspark.sql import SparkSession\n"
      ],
      "metadata": {
        "id": "nLj_CneQKJAi"
      },
      "execution_count": null,
      "outputs": []
    },
    {
      "cell_type": "code",
      "source": [
        "# Preprocess the data\n",
        "assembler = VectorAssembler(inputCols=[\"name_onehot\", \"description_onehot\"], outputCol=\"features\")\n",
        "df = assembler.transform(dataset)\n"
      ],
      "metadata": {
        "id": "_68te5VwlBCc"
      },
      "execution_count": null,
      "outputs": []
    },
    {
      "cell_type": "code",
      "source": [
        "df=df.drop('name')"
      ],
      "metadata": {
        "id": "KdGyubtZSYcA"
      },
      "execution_count": null,
      "outputs": []
    },
    {
      "cell_type": "code",
      "source": [
        "df=df.drop('description')"
      ],
      "metadata": {
        "id": "yyYv2v0oSdSe"
      },
      "execution_count": null,
      "outputs": []
    },
    {
      "cell_type": "code",
      "source": [
        "df.show()"
      ],
      "metadata": {
        "colab": {
          "base_uri": "https://localhost:8080/"
        },
        "id": "-UXdtI2fl2zo",
        "outputId": "ed60e20d-69d0-4c8f-b74e-6e7d83041b2f"
      },
      "execution_count": null,
      "outputs": [
        {
          "output_type": "stream",
          "name": "stdout",
          "text": [
            "+-------+------------+-------------------+-----------------+------------------+--------------------+\n",
            "|book_id|name_numeric|description_numeric|      name_onehot|description_onehot|            features|\n",
            "+-------+------------+-------------------+-----------------+------------------+--------------------+\n",
            "|   4833|       100.0|               30.0|(121,[100],[1.0])|  (121,[30],[1.0])|(242,[100,151],[1...|\n",
            "|    590|        65.0|               43.0| (121,[65],[1.0])|  (121,[43],[1.0])|(242,[65,164],[1....|\n",
            "|   4264|        10.0|               60.0| (121,[10],[1.0])|  (121,[60],[1.0])|(242,[10,181],[1....|\n",
            "|   3361|        27.0|               25.0| (121,[27],[1.0])|  (121,[25],[1.0])|(242,[27,146],[1....|\n",
            "|   4535|        45.0|                4.0| (121,[45],[1.0])|   (121,[4],[1.0])|(242,[45,125],[1....|\n",
            "|    518|       115.0|               73.0|(121,[115],[1.0])|  (121,[73],[1.0])|(242,[115,194],[1...|\n",
            "|   3781|        85.0|               95.0| (121,[85],[1.0])|  (121,[95],[1.0])|(242,[85,216],[1....|\n",
            "|   3190|         0.0|               61.0|  (121,[0],[1.0])|  (121,[61],[1.0])|(242,[0,182],[1.0...|\n",
            "|   3147|        40.0|               12.0| (121,[40],[1.0])|  (121,[12],[1.0])|(242,[40,133],[1....|\n",
            "|    225|         1.0|                0.0|  (121,[1],[1.0])|   (121,[0],[1.0])|(242,[1,121],[1.0...|\n",
            "|   3035|        19.0|               80.0| (121,[19],[1.0])|  (121,[80],[1.0])|(242,[19,201],[1....|\n",
            "|     99|        76.0|              119.0| (121,[76],[1.0])| (121,[119],[1.0])|(242,[76,240],[1....|\n",
            "|   3594|        96.0|               20.0| (121,[96],[1.0])|  (121,[20],[1.0])|(242,[96,141],[1....|\n",
            "|   4971|       103.0|               35.0|(121,[103],[1.0])|  (121,[35],[1.0])|(242,[103,156],[1...|\n",
            "|   1381|         7.0|               48.0|  (121,[7],[1.0])|  (121,[48],[1.0])|(242,[7,169],[1.0...|\n",
            "|   3099|        20.0|               38.0| (121,[20],[1.0])|  (121,[38],[1.0])|(242,[20,159],[1....|\n",
            "|     45|        57.0|               47.0| (121,[57],[1.0])|  (121,[47],[1.0])|(242,[57,168],[1....|\n",
            "|   3269|        54.0|               68.0| (121,[54],[1.0])|  (121,[68],[1.0])|(242,[54,189],[1....|\n",
            "|   2786|        47.0|               87.0| (121,[47],[1.0])|  (121,[87],[1.0])|(242,[47,208],[1....|\n",
            "|   4484|        52.0|                9.0| (121,[52],[1.0])|   (121,[9],[1.0])|(242,[52,130],[1....|\n",
            "+-------+------------+-------------------+-----------------+------------------+--------------------+\n",
            "only showing top 20 rows\n",
            "\n"
          ]
        }
      ]
    },
    {
      "cell_type": "code",
      "source": [
        "from pyspark.ml.clustering import KMeans\n",
        "\n",
        "# Split the data into training and testing sets\n",
        "training_data = df.limit(135)\n",
        "test_data = df.subtract(training_data)\n"
      ],
      "metadata": {
        "id": "46-N6k4_j_pk"
      },
      "execution_count": null,
      "outputs": []
    },
    {
      "cell_type": "code",
      "source": [
        "#define k-means model\n",
        "# Train the KMeans model\n",
        "kmeans = KMeans(k=10, seed=1)\n",
        "model = kmeans.fit(training_data)"
      ],
      "metadata": {
        "id": "8zskNXGxkdn6"
      },
      "execution_count": null,
      "outputs": []
    },
    {
      "cell_type": "code",
      "source": [
        "# Get the terms found in the first three clusters\n",
        "cluster_centers = model.clusterCenters()\n",
        "for i in range(3):\n",
        "    print(\"Cluster \", i+1, \":\")\n",
        "    print(cluster_centers[i])"
      ],
      "metadata": {
        "colab": {
          "base_uri": "https://localhost:8080/"
        },
        "id": "BPOgfMGfLeln",
        "outputId": "d28e8288-e996-408d-9487-a0b33ee595ee"
      },
      "execution_count": null,
      "outputs": [
        {
          "output_type": "stream",
          "name": "stdout",
          "text": [
            "Cluster  1 :\n",
            "[0.00884956 0.00884956 0.00884956 0.00884956 0.00884956 0.00884956\n",
            " 0.00884956 0.00884956 0.00884956 0.00884956 0.00884956 0.00884956\n",
            " 0.00884956 0.00884956 0.         0.00884956 0.00884956 0.00884956\n",
            " 0.00884956 0.00884956 0.00884956 0.00884956 0.00884956 0.00884956\n",
            " 0.00884956 0.00884956 0.00884956 0.00884956 0.00884956 0.00884956\n",
            " 0.00884956 0.00884956 0.00884956 0.00884956 0.00884956 0.00884956\n",
            " 0.         0.00884956 0.00884956 0.00884956 0.00884956 0.00884956\n",
            " 0.         0.00884956 0.         0.00884956 0.00884956 0.00884956\n",
            " 0.00884956 0.00884956 0.00884956 0.00884956 0.00884956 0.00884956\n",
            " 0.00884956 0.00884956 0.00884956 0.00884956 0.00884956 0.00884956\n",
            " 0.00884956 0.         0.00884956 0.00884956 0.00884956 0.00884956\n",
            " 0.00884956 0.00884956 0.00884956 0.00884956 0.00884956 0.00884956\n",
            " 0.00884956 0.00884956 0.00884956 0.00884956 0.00884956 0.00884956\n",
            " 0.00884956 0.         0.00884956 0.         0.00884956 0.00884956\n",
            " 0.00884956 0.         0.00884956 0.00884956 0.00884956 0.00884956\n",
            " 0.00884956 0.00884956 0.00884956 0.00884956 0.00884956 0.00884956\n",
            " 0.00884956 0.00884956 0.00884956 0.00884956 0.00884956 0.00884956\n",
            " 0.00884956 0.00884956 0.00884956 0.00884956 0.00884956 0.00884956\n",
            " 0.00884956 0.00884956 0.00884956 0.00884956 0.00884956 0.00884956\n",
            " 0.00884956 0.00884956 0.00884956 0.00884956 0.         0.00884956\n",
            " 0.00884956 0.00884956 0.00884956 0.00884956 0.00884956 0.00884956\n",
            " 0.00884956 0.00884956 0.00884956 0.00884956 0.00884956 0.00884956\n",
            " 0.00884956 0.00884956 0.00884956 0.00884956 0.00884956 0.00884956\n",
            " 0.00884956 0.00884956 0.00884956 0.00884956 0.00884956 0.00884956\n",
            " 0.00884956 0.00884956 0.00884956 0.00884956 0.00884956 0.00884956\n",
            " 0.00884956 0.00884956 0.         0.00884956 0.00884956 0.00884956\n",
            " 0.00884956 0.00884956 0.00884956 0.00884956 0.00884956 0.00884956\n",
            " 0.00884956 0.00884956 0.00884956 0.00884956 0.00884956 0.00884956\n",
            " 0.00884956 0.00884956 0.00884956 0.00884956 0.00884956 0.00884956\n",
            " 0.00884956 0.00884956 0.00884956 0.00884956 0.00884956 0.00884956\n",
            " 0.         0.00884956 0.00884956 0.00884956 0.00884956 0.\n",
            " 0.00884956 0.00884956 0.00884956 0.00884956 0.00884956 0.00884956\n",
            " 0.         0.00884956 0.00884956 0.00884956 0.00884956 0.00884956\n",
            " 0.00884956 0.00884956 0.         0.00884956 0.00884956 0.00884956\n",
            " 0.00884956 0.00884956 0.00884956 0.00884956 0.00884956 0.00884956\n",
            " 0.00884956 0.00884956 0.00884956 0.00884956 0.00884956 0.00884956\n",
            " 0.         0.00884956 0.00884956 0.         0.00884956 0.00884956\n",
            " 0.00884956 0.00884956 0.00884956 0.00884956 0.00884956 0.00884956\n",
            " 0.00884956 0.00884956 0.00884956 0.00884956 0.00884956 0.00884956\n",
            " 0.00884956 0.         0.00884956 0.         0.00884956 0.00884956\n",
            " 0.00884956 0.00884956]\n",
            "Cluster  2 :\n",
            "[0. 0. 0. 0. 0. 0. 0. 0. 0. 0. 0. 0. 0. 0. 0. 0. 0. 0. 0. 0. 0. 0. 0. 0.\n",
            " 0. 0. 0. 0. 0. 0. 0. 0. 0. 0. 0. 0. 0. 0. 0. 0. 0. 0. 0. 0. 0. 0. 0. 0.\n",
            " 0. 0. 0. 0. 0. 0. 0. 0. 0. 0. 0. 0. 0. 0. 0. 0. 0. 0. 0. 0. 0. 0. 0. 0.\n",
            " 0. 0. 0. 0. 0. 0. 0. 1. 0. 0. 0. 0. 0. 0. 0. 0. 0. 0. 0. 0. 0. 0. 0. 0.\n",
            " 0. 0. 0. 0. 0. 0. 0. 0. 0. 0. 0. 0. 0. 0. 0. 0. 0. 0. 0. 0. 0. 0. 0. 0.\n",
            " 0. 0. 0. 0. 0. 0. 0. 0. 0. 0. 0. 0. 0. 0. 0. 0. 0. 0. 0. 0. 0. 0. 0. 0.\n",
            " 0. 0. 0. 0. 0. 0. 0. 0. 1. 0. 0. 0. 0. 0. 0. 0. 0. 0. 0. 0. 0. 0. 0. 0.\n",
            " 0. 0. 0. 0. 0. 0. 0. 0. 0. 0. 0. 0. 0. 0. 0. 0. 0. 0. 0. 0. 0. 0. 0. 0.\n",
            " 0. 0. 0. 0. 0. 0. 0. 0. 0. 0. 0. 0. 0. 0. 0. 0. 0. 0. 0. 0. 0. 0. 0. 0.\n",
            " 0. 0. 0. 0. 0. 0. 0. 0. 0. 0. 0. 0. 0. 0. 0. 0. 0. 0. 0. 0. 0. 0. 0. 0.\n",
            " 0. 0.]\n",
            "Cluster  3 :\n",
            "[0. 0. 0. 0. 0. 0. 0. 0. 0. 0. 0. 0. 0. 0. 0. 0. 0. 0. 0. 0. 0. 0. 0. 0.\n",
            " 0. 0. 0. 0. 0. 0. 0. 0. 0. 0. 0. 0. 0. 0. 0. 0. 0. 0. 0. 0. 1. 0. 0. 0.\n",
            " 0. 0. 0. 0. 0. 0. 0. 0. 0. 0. 0. 0. 0. 0. 0. 0. 0. 0. 0. 0. 0. 0. 0. 0.\n",
            " 0. 0. 0. 0. 0. 0. 0. 0. 0. 0. 0. 0. 0. 0. 0. 0. 0. 0. 0. 0. 0. 0. 0. 0.\n",
            " 0. 0. 0. 0. 0. 0. 0. 0. 0. 0. 0. 0. 0. 0. 0. 0. 0. 0. 0. 0. 0. 0. 0. 0.\n",
            " 0. 0. 0. 0. 0. 0. 0. 0. 0. 0. 0. 0. 0. 0. 0. 0. 0. 0. 0. 0. 0. 0. 0. 0.\n",
            " 0. 0. 0. 0. 0. 0. 0. 0. 0. 0. 0. 0. 0. 0. 0. 0. 0. 0. 0. 0. 0. 0. 0. 0.\n",
            " 0. 0. 0. 0. 0. 0. 0. 0. 0. 0. 0. 0. 0. 0. 0. 0. 0. 0. 0. 0. 0. 0. 0. 0.\n",
            " 0. 0. 0. 0. 0. 0. 0. 0. 1. 0. 0. 0. 0. 0. 0. 0. 0. 0. 0. 0. 0. 0. 0. 0.\n",
            " 0. 0. 0. 0. 0. 0. 0. 0. 0. 0. 0. 0. 0. 0. 0. 0. 0. 0. 0. 0. 0. 0. 0. 0.\n",
            " 0. 0.]\n"
          ]
        }
      ]
    }
  ]
}