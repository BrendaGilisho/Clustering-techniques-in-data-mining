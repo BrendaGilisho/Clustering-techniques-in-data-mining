{
  "nbformat": 4,
  "nbformat_minor": 0,
  "metadata": {
    "colab": {
      "provenance": [],
      "include_colab_link": true
    },
    "kernelspec": {
      "name": "python3",
      "display_name": "Python 3"
    },
    "language_info": {
      "name": "python"
    },
    "accelerator": "GPU",
    "gpuClass": "standard"
  },
  "cells": [
    {
      "cell_type": "markdown",
      "metadata": {
        "id": "view-in-github",
        "colab_type": "text"
      },
      "source": [
        "<a href=\"https://colab.research.google.com/github/BrendaGilisho/Clustering-techniques-in-data-mining/blob/main/Clustering_Pyspark.ipynb\" target=\"_parent\"><img src=\"https://colab.research.google.com/assets/colab-badge.svg\" alt=\"Open In Colab\"/></a>"
      ]
    },
    {
      "cell_type": "code",
      "source": [
        "# Installing pyspark\n",
        "!pip install pyspark"
      ],
      "metadata": {
        "colab": {
          "base_uri": "https://localhost:8080/"
        },
        "id": "mF6Xm1tpu7gQ",
        "outputId": "defccb02-bdb0-4049-ad62-ef56815efb27"
      },
      "execution_count": null,
      "outputs": [
        {
          "output_type": "stream",
          "name": "stdout",
          "text": [
            "Looking in indexes: https://pypi.org/simple, https://us-python.pkg.dev/colab-wheels/public/simple/\n",
            "Collecting pyspark\n",
            "  Downloading pyspark-3.3.1.tar.gz (281.4 MB)\n",
            "\u001b[2K     \u001b[90m━━━━━━━━━━━━━━━━━━━━━━━━━━━━━━━━━━━━━━━\u001b[0m \u001b[32m281.4/281.4 MB\u001b[0m \u001b[31m5.2 MB/s\u001b[0m eta \u001b[36m0:00:00\u001b[0m\n",
            "\u001b[?25h  Preparing metadata (setup.py) ... \u001b[?25l\u001b[?25hdone\n",
            "Collecting py4j==0.10.9.5\n",
            "  Downloading py4j-0.10.9.5-py2.py3-none-any.whl (199 kB)\n",
            "\u001b[2K     \u001b[90m━━━━━━━━━━━━━━━━━━━━━━━━━━━━━━━━━━━━━━\u001b[0m \u001b[32m199.7/199.7 KB\u001b[0m \u001b[31m27.7 MB/s\u001b[0m eta \u001b[36m0:00:00\u001b[0m\n",
            "\u001b[?25hBuilding wheels for collected packages: pyspark\n",
            "  Building wheel for pyspark (setup.py) ... \u001b[?25l\u001b[?25hdone\n",
            "  Created wheel for pyspark: filename=pyspark-3.3.1-py2.py3-none-any.whl size=281845512 sha256=b41e277fb677976f39ece81fa1377566b41927674774b2901be001566d23eb0a\n",
            "  Stored in directory: /root/.cache/pip/wheels/43/dc/11/ec201cd671da62fa9c5cc77078235e40722170ceba231d7598\n",
            "Successfully built pyspark\n",
            "Installing collected packages: py4j, pyspark\n",
            "Successfully installed py4j-0.10.9.5 pyspark-3.3.1\n"
          ]
        }
      ]
    },
    {
      "cell_type": "code",
      "source": [
        "# Importing necessary packages\n",
        "from pyspark.ml.clustering import KMeans\n",
        "from pyspark.ml.feature import VectorAssembler\n",
        "from pyspark.sql import SparkSession\n",
        "import pandas as pd\n",
        "import seaborn as sns\n",
        "import matplotlib.pyplot as plt\n",
        "from pyspark.context import SparkContext \n",
        "from google.colab import files\n"
      ],
      "metadata": {
        "id": "QLPYzeObxN7U"
      },
      "execution_count": null,
      "outputs": []
    },
    {
      "cell_type": "code",
      "source": [
        "from google.colab import drive\n",
        "drive.mount('/content/drive')"
      ],
      "metadata": {
        "colab": {
          "base_uri": "https://localhost:8080/"
        },
        "id": "vlQCw5-gLsoa",
        "outputId": "cba72ddf-2f6c-4e90-d057-2a9eaeae46d5"
      },
      "execution_count": null,
      "outputs": [
        {
          "output_type": "stream",
          "name": "stdout",
          "text": [
            "Mounted at /content/drive\n"
          ]
        }
      ]
    },
    {
      "cell_type": "code",
      "source": [
        "##upload dataset\n",
        "from pyspark.sql import SparkSession\n",
        "spark = SparkSession.builder\\\n",
        "        .master(\"local\")\\\n",
        "        .appName(\"Colab\")\\\n",
        "        .config('spark.ui.port', '4050')\\\n",
        "        .getOrCreate()"
      ],
      "metadata": {
        "id": "tzOtGrsOL5uF"
      },
      "execution_count": null,
      "outputs": []
    },
    {
      "cell_type": "code",
      "source": [
        "spark"
      ],
      "metadata": {
        "colab": {
          "base_uri": "https://localhost:8080/",
          "height": 219
        },
        "id": "Yb-QcosMMCjN",
        "outputId": "101aa0a1-d934-4604-94b2-135556046c7c"
      },
      "execution_count": null,
      "outputs": [
        {
          "output_type": "execute_result",
          "data": {
            "text/plain": [
              "<pyspark.sql.session.SparkSession at 0x7faa358454c0>"
            ],
            "text/html": [
              "\n",
              "            <div>\n",
              "                <p><b>SparkSession - in-memory</b></p>\n",
              "                \n",
              "        <div>\n",
              "            <p><b>SparkContext</b></p>\n",
              "\n",
              "            <p><a href=\"http://28c9ba0016ee:4050\">Spark UI</a></p>\n",
              "\n",
              "            <dl>\n",
              "              <dt>Version</dt>\n",
              "                <dd><code>v3.3.1</code></dd>\n",
              "              <dt>Master</dt>\n",
              "                <dd><code>local</code></dd>\n",
              "              <dt>AppName</dt>\n",
              "                <dd><code>Colab</code></dd>\n",
              "            </dl>\n",
              "        </div>\n",
              "        \n",
              "            </div>\n",
              "        "
            ]
          },
          "metadata": {},
          "execution_count": 5
        }
      ]
    },
    {
      "cell_type": "code",
      "source": [
        "data = spark.read.csv('/content/drive/My Drive/Colab Notebooks/Datamining/books - description (1) (1).csv', header=True, encoding='latin1')\n"
      ],
      "metadata": {
        "id": "2mf9z-MxMFj9"
      },
      "execution_count": null,
      "outputs": []
    },
    {
      "cell_type": "code",
      "source": [
        "data.show(4)"
      ],
      "metadata": {
        "colab": {
          "base_uri": "https://localhost:8080/"
        },
        "id": "Mz4a4uBBMjb2",
        "outputId": "f116653e-c455-4729-c3ad-2f971545e5d5"
      },
      "execution_count": null,
      "outputs": [
        {
          "output_type": "stream",
          "name": "stdout",
          "text": [
            "+--------------------+--------------------+--------------------+\n",
            "|             book_id|                name|         description|\n",
            "+--------------------+--------------------+--------------------+\n",
            "|                4833|    The Glass Castle|A tender, moving ...|\n",
            "|Jeannette Walls g...| they lived like ...| moving among Sou...|\n",
            "|               Later| when the money r...| or the romance o...|\n",
            "|What is so astoni...| but that she des...|   but also a tender|\n",
            "+--------------------+--------------------+--------------------+\n",
            "only showing top 4 rows\n",
            "\n"
          ]
        }
      ]
    },
    {
      "cell_type": "code",
      "source": [
        "data.printSchema()"
      ],
      "metadata": {
        "colab": {
          "base_uri": "https://localhost:8080/"
        },
        "id": "qwgAOHr1LaPo",
        "outputId": "5adea83a-c7ce-4700-9f26-6230376b4f5b"
      },
      "execution_count": null,
      "outputs": [
        {
          "output_type": "stream",
          "name": "stdout",
          "text": [
            "root\n",
            " |-- book_id: string (nullable = true)\n",
            " |-- name: string (nullable = true)\n",
            " |-- description: string (nullable = true)\n",
            "\n"
          ]
        }
      ]
    },
    {
      "cell_type": "markdown",
      "source": [
        "**Data Preprocessing**"
      ],
      "metadata": {
        "id": "MMGeWOhlPmoq"
      }
    },
    {
      "cell_type": "code",
      "source": [
        "##cast id column to appropriate datatype\n",
        "from pyspark.sql.functions import col\n",
        "\n",
        "data_set = data.filter(col(\"book_id\").cast(\"int\").isNotNull())"
      ],
      "metadata": {
        "id": "Jt0P1QDnNB9y"
      },
      "execution_count": null,
      "outputs": []
    },
    {
      "cell_type": "code",
      "source": [
        "from pyspark.sql.types import IntegerType\n",
        "data_set = data_set.withColumn(\"book_id\", data_set[\"book_id\"].cast(IntegerType()))"
      ],
      "metadata": {
        "id": "faq89jp-PADI"
      },
      "execution_count": null,
      "outputs": []
    },
    {
      "cell_type": "code",
      "source": [
        "data_set.show(20)"
      ],
      "metadata": {
        "colab": {
          "base_uri": "https://localhost:8080/"
        },
        "id": "2tOqwwoPNHjm",
        "outputId": "160b241e-f2fa-4df8-f41a-ed058f2cdd68"
      },
      "execution_count": null,
      "outputs": [
        {
          "output_type": "stream",
          "name": "stdout",
          "text": [
            "+-------+--------------------+--------------------+\n",
            "|book_id|                name|         description|\n",
            "+-------+--------------------+--------------------+\n",
            "|   4833|    The Glass Castle|A tender, moving ...|\n",
            "|    590|Night (The Night ...|Born into a Jewis...|\n",
            "|   4264|Angela's Ashes (F...|Imbued on every p...|\n",
            "|   3361|    Eat, Pray, Love |A celebrated writ...|\n",
            "|   4535|Into Thin Air: A ...|\"A bank of clouds...|\n",
            "|    518|Tuesdays with Morrie|Maybe it was a gr...|\n",
            "|   3781|Running with Scis...|The true story of...|\n",
            "|   3190|       Into the Wild|In April 1992 a y...|\n",
            "|   3147|I Know Why the Ca...|\"Sent by their mo...|\n",
            "|    225|\"A Child Called \"...|               #1) \"|\n",
            "|   3035|Chickens, Mules a...|Perhaps if Joe an...|\n",
            "|     99|Persepolis: The S...|Wise, funny, and ...|\n",
            "|   3594|The Autobiography...|\"Through a life o...|\n",
            "|   4971|The Hiding Place:...|At one time Corri...|\n",
            "|   1381|All Creatures Gre...|Delve into the ma...|\n",
            "|   3099|         Confessions|Augustine's Confe...|\n",
            "|     45|Me Talk Pretty On...|David Sedaris' mo...|\n",
            "|   3269|Marley and Me: Li...|John and Jenny we...|\n",
            "|   2786|          John Adams|The enthralling, ...|\n",
            "|   4484|Man's Search for ...|\"Psychiatrist Vik...|\n",
            "+-------+--------------------+--------------------+\n",
            "only showing top 20 rows\n",
            "\n"
          ]
        }
      ]
    },
    {
      "cell_type": "code",
      "source": [
        "data_set.printSchema()"
      ],
      "metadata": {
        "colab": {
          "base_uri": "https://localhost:8080/"
        },
        "id": "mNBHzQ6ON8C4",
        "outputId": "b80c2f57-a339-416e-f7d5-7feb40c1538d"
      },
      "execution_count": null,
      "outputs": [
        {
          "output_type": "stream",
          "name": "stdout",
          "text": [
            "root\n",
            " |-- book_id: integer (nullable = true)\n",
            " |-- name: string (nullable = true)\n",
            " |-- description: string (nullable = true)\n",
            "\n"
          ]
        }
      ]
    },
    {
      "cell_type": "code",
      "source": [
        "###handling missing values\n",
        "# Calculate the number of rows in the DataFrame\n",
        "num_rows = data_set.count()\n",
        "num_rows"
      ],
      "metadata": {
        "colab": {
          "base_uri": "https://localhost:8080/"
        },
        "id": "Q7GQk_B2Ps2b",
        "outputId": "e9c75b01-43ba-437d-d839-2f0ce637cf39"
      },
      "execution_count": null,
      "outputs": [
        {
          "output_type": "execute_result",
          "data": {
            "text/plain": [
              "136"
            ]
          },
          "metadata": {},
          "execution_count": 14
        }
      ]
    },
    {
      "cell_type": "code",
      "source": [
        "#show number of missing values in each column\n",
        "# Sum the number of missing values in each column\n",
        "missing_values = [data_set.filter(data_set[col].isNull()).count() for col in data_set.columns]\n",
        "\n",
        "# Print the sum of missing values for each column\n",
        "for col, missing in zip(data_set.columns, missing_values):\n",
        "    print(f\"{col}: {missing}\")"
      ],
      "metadata": {
        "colab": {
          "base_uri": "https://localhost:8080/"
        },
        "id": "qa6WNehnQfIi",
        "outputId": "345b618f-f9bd-40ef-bcf4-3e08dd365f8f"
      },
      "execution_count": null,
      "outputs": [
        {
          "output_type": "stream",
          "name": "stdout",
          "text": [
            "book_id: 0\n",
            "name: 0\n",
            "description: 0\n"
          ]
        }
      ]
    },
    {
      "cell_type": "code",
      "source": [
        "# Tokenize sentences\n",
        "from pyspark.ml.feature import CountVectorizer, RegexTokenizer\n",
        "\n",
        "regexTokenizer = RegexTokenizer(inputCol=\"description\", outputCol=\"description_tokenized\", pattern=\"\\\\W\")\n",
        "Data = regexTokenizer.transform(data_set)\n",
        "Data.show()"
      ],
      "metadata": {
        "colab": {
          "base_uri": "https://localhost:8080/"
        },
        "id": "9RdPeqjDKzF_",
        "outputId": "bae0a18d-37a3-46e0-ba75-e5b63125aac5"
      },
      "execution_count": null,
      "outputs": [
        {
          "output_type": "stream",
          "name": "stdout",
          "text": [
            "+-------+--------------------+--------------------+---------------------+\n",
            "|book_id|                name|         description|description_tokenized|\n",
            "+-------+--------------------+--------------------+---------------------+\n",
            "|   4833|    The Glass Castle|A tender, moving ...| [a, tender, movin...|\n",
            "|    590|Night (The Night ...|Born into a Jewis...| [born, into, a, j...|\n",
            "|   4264|Angela's Ashes (F...|Imbued on every p...| [imbued, on, ever...|\n",
            "|   3361|    Eat, Pray, Love |A celebrated writ...| [a, celebrated, w...|\n",
            "|   4535|Into Thin Air: A ...|\"A bank of clouds...| [a, bank, of, clo...|\n",
            "|    518|Tuesdays with Morrie|Maybe it was a gr...| [maybe, it, was, ...|\n",
            "|   3781|Running with Scis...|The true story of...| [the, true, story...|\n",
            "|   3190|       Into the Wild|In April 1992 a y...| [in, april, 1992,...|\n",
            "|   3147|I Know Why the Ca...|\"Sent by their mo...| [sent, by, their,...|\n",
            "|    225|\"A Child Called \"...|               #1) \"|                  [1]|\n",
            "|   3035|Chickens, Mules a...|Perhaps if Joe an...| [perhaps, if, joe...|\n",
            "|     99|Persepolis: The S...|Wise, funny, and ...| [wise, funny, and...|\n",
            "|   3594|The Autobiography...|\"Through a life o...| [through, a, life...|\n",
            "|   4971|The Hiding Place:...|At one time Corri...| [at, one, time, c...|\n",
            "|   1381|All Creatures Gre...|Delve into the ma...| [delve, into, the...|\n",
            "|   3099|         Confessions|Augustine's Confe...| [augustine, s, co...|\n",
            "|     45|Me Talk Pretty On...|David Sedaris' mo...| [david, sedaris, ...|\n",
            "|   3269|Marley and Me: Li...|John and Jenny we...| [john, and, jenny...|\n",
            "|   2786|          John Adams|The enthralling, ...| [the, enthralling...|\n",
            "|   4484|Man's Search for ...|\"Psychiatrist Vik...| [psychiatrist, vi...|\n",
            "+-------+--------------------+--------------------+---------------------+\n",
            "only showing top 20 rows\n",
            "\n"
          ]
        }
      ]
    },
    {
      "cell_type": "code",
      "source": [
        "regexTokenizer = RegexTokenizer(inputCol=\"name\", outputCol=\"name_tokenized\", pattern=\"\\\\W\")\n",
        "Data = regexTokenizer.transform(Data)\n",
        "Data.show()"
      ],
      "metadata": {
        "colab": {
          "base_uri": "https://localhost:8080/"
        },
        "id": "_ZSkbIYtOTBT",
        "outputId": "aa648558-2dc1-4e6b-ea32-2d6a4ef541ea"
      },
      "execution_count": null,
      "outputs": [
        {
          "output_type": "stream",
          "name": "stdout",
          "text": [
            "+-------+--------------------+--------------------+---------------------+--------------------+\n",
            "|book_id|                name|         description|description_tokenized|      name_tokenized|\n",
            "+-------+--------------------+--------------------+---------------------+--------------------+\n",
            "|   4833|    The Glass Castle|A tender, moving ...| [a, tender, movin...|[the, glass, castle]|\n",
            "|    590|Night (The Night ...|Born into a Jewis...| [born, into, a, j...|[night, the, nigh...|\n",
            "|   4264|Angela's Ashes (F...|Imbued on every p...| [imbued, on, ever...|[angela, s, ashes...|\n",
            "|   3361|    Eat, Pray, Love |A celebrated writ...| [a, celebrated, w...|   [eat, pray, love]|\n",
            "|   4535|Into Thin Air: A ...|\"A bank of clouds...| [a, bank, of, clo...|[into, thin, air,...|\n",
            "|    518|Tuesdays with Morrie|Maybe it was a gr...| [maybe, it, was, ...|[tuesdays, with, ...|\n",
            "|   3781|Running with Scis...|The true story of...| [the, true, story...|[running, with, s...|\n",
            "|   3190|       Into the Wild|In April 1992 a y...| [in, april, 1992,...|   [into, the, wild]|\n",
            "|   3147|I Know Why the Ca...|\"Sent by their mo...| [sent, by, their,...|[i, know, why, th...|\n",
            "|    225|\"A Child Called \"...|               #1) \"|                  [1]|[a, child, called...|\n",
            "|   3035|Chickens, Mules a...|Perhaps if Joe an...| [perhaps, if, joe...|[chickens, mules,...|\n",
            "|     99|Persepolis: The S...|Wise, funny, and ...| [wise, funny, and...|[persepolis, the,...|\n",
            "|   3594|The Autobiography...|\"Through a life o...| [through, a, life...|[the, autobiograp...|\n",
            "|   4971|The Hiding Place:...|At one time Corri...| [at, one, time, c...|[the, hiding, pla...|\n",
            "|   1381|All Creatures Gre...|Delve into the ma...| [delve, into, the...|[all, creatures, ...|\n",
            "|   3099|         Confessions|Augustine's Confe...| [augustine, s, co...|       [confessions]|\n",
            "|     45|Me Talk Pretty On...|David Sedaris' mo...| [david, sedaris, ...|[me, talk, pretty...|\n",
            "|   3269|Marley and Me: Li...|John and Jenny we...| [john, and, jenny...|[marley, and, me,...|\n",
            "|   2786|          John Adams|The enthralling, ...| [the, enthralling...|       [john, adams]|\n",
            "|   4484|Man's Search for ...|\"Psychiatrist Vik...| [psychiatrist, vi...|[man, s, search, ...|\n",
            "+-------+--------------------+--------------------+---------------------+--------------------+\n",
            "only showing top 20 rows\n",
            "\n"
          ]
        }
      ]
    },
    {
      "cell_type": "code",
      "source": [
        "# Remove stop words\n",
        "from pyspark.ml.feature import StopWordsRemover, HashingTF, IDF\n",
        "\n",
        "remover = StopWordsRemover(inputCol=\"description_tokenized\", outputCol=\"desc_removedwords\")\n",
        "data = remover.transform(Data)\n",
        "data.show()"
      ],
      "metadata": {
        "colab": {
          "base_uri": "https://localhost:8080/"
        },
        "id": "Z13DLpOxLPjp",
        "outputId": "099e68e1-558a-46dc-d85b-b7e1c9684e9e"
      },
      "execution_count": null,
      "outputs": [
        {
          "output_type": "stream",
          "name": "stdout",
          "text": [
            "+-------+--------------------+--------------------+---------------------+--------------------+--------------------+\n",
            "|book_id|                name|         description|description_tokenized|      name_tokenized|   desc_removedwords|\n",
            "+-------+--------------------+--------------------+---------------------+--------------------+--------------------+\n",
            "|   4833|    The Glass Castle|A tender, moving ...| [a, tender, movin...|[the, glass, castle]|[tender, moving, ...|\n",
            "|    590|Night (The Night ...|Born into a Jewis...| [born, into, a, j...|[night, the, nigh...|[born, jewish, gh...|\n",
            "|   4264|Angela's Ashes (F...|Imbued on every p...| [imbued, on, ever...|[angela, s, ashes...|[imbued, every, p...|\n",
            "|   3361|    Eat, Pray, Love |A celebrated writ...| [a, celebrated, w...|   [eat, pray, love]|[celebrated, writ...|\n",
            "|   4535|Into Thin Air: A ...|\"A bank of clouds...| [a, bank, of, clo...|[into, thin, air,...|[bank, clouds, as...|\n",
            "|    518|Tuesdays with Morrie|Maybe it was a gr...| [maybe, it, was, ...|[tuesdays, with, ...|[maybe, grandpare...|\n",
            "|   3781|Running with Scis...|The true story of...| [the, true, story...|[running, with, s...|[true, story, out...|\n",
            "|   3190|       Into the Wild|In April 1992 a y...| [in, april, 1992,...|   [into, the, wild]|[april, 1992, you...|\n",
            "|   3147|I Know Why the Ca...|\"Sent by their mo...| [sent, by, their,...|[i, know, why, th...|[sent, mother, li...|\n",
            "|    225|\"A Child Called \"...|               #1) \"|                  [1]|[a, child, called...|                 [1]|\n",
            "|   3035|Chickens, Mules a...|Perhaps if Joe an...| [perhaps, if, joe...|[chickens, mules,...|[perhaps, joe, vi...|\n",
            "|     99|Persepolis: The S...|Wise, funny, and ...| [wise, funny, and...|[persepolis, the,...|[wise, funny, hea...|\n",
            "|   3594|The Autobiography...|\"Through a life o...| [through, a, life...|[the, autobiograp...|[life, passion, s...|\n",
            "|   4971|The Hiding Place:...|At one time Corri...| [at, one, time, c...|[the, hiding, pla...|[one, time, corri...|\n",
            "|   1381|All Creatures Gre...|Delve into the ma...| [delve, into, the...|[all, creatures, ...|[delve, magical, ...|\n",
            "|   3099|         Confessions|Augustine's Confe...| [augustine, s, co...|       [confessions]|[augustine, confe...|\n",
            "|     45|Me Talk Pretty On...|David Sedaris' mo...| [david, sedaris, ...|[me, talk, pretty...|[david, sedaris, ...|\n",
            "|   3269|Marley and Me: Li...|John and Jenny we...| [john, and, jenny...|[marley, and, me,...|[john, jenny, beg...|\n",
            "|   2786|          John Adams|The enthralling, ...| [the, enthralling...|       [john, adams]|[enthralling, oft...|\n",
            "|   4484|Man's Search for ...|\"Psychiatrist Vik...| [psychiatrist, vi...|[man, s, search, ...|[psychiatrist, vi...|\n",
            "+-------+--------------------+--------------------+---------------------+--------------------+--------------------+\n",
            "only showing top 20 rows\n",
            "\n"
          ]
        }
      ]
    },
    {
      "cell_type": "code",
      "source": [
        "remover = StopWordsRemover(inputCol=\"name_tokenized\", outputCol=\"name_removedwords\")\n",
        "data = remover.transform(data)\n",
        "data.show()"
      ],
      "metadata": {
        "colab": {
          "base_uri": "https://localhost:8080/"
        },
        "id": "iiJWreIWOl-E",
        "outputId": "d270ea73-bceb-4eec-c591-4e432ef10947"
      },
      "execution_count": null,
      "outputs": [
        {
          "output_type": "stream",
          "name": "stdout",
          "text": [
            "+-------+--------------------+--------------------+---------------------+--------------------+--------------------+--------------------+\n",
            "|book_id|                name|         description|description_tokenized|      name_tokenized|   desc_removedwords|   name_removedwords|\n",
            "+-------+--------------------+--------------------+---------------------+--------------------+--------------------+--------------------+\n",
            "|   4833|    The Glass Castle|A tender, moving ...| [a, tender, movin...|[the, glass, castle]|[tender, moving, ...|     [glass, castle]|\n",
            "|    590|Night (The Night ...|Born into a Jewis...| [born, into, a, j...|[night, the, nigh...|[born, jewish, gh...|[night, night, tr...|\n",
            "|   4264|Angela's Ashes (F...|Imbued on every p...| [imbued, on, ever...|[angela, s, ashes...|[imbued, every, p...|[angela, ashes, f...|\n",
            "|   3361|    Eat, Pray, Love |A celebrated writ...| [a, celebrated, w...|   [eat, pray, love]|[celebrated, writ...|   [eat, pray, love]|\n",
            "|   4535|Into Thin Air: A ...|\"A bank of clouds...| [a, bank, of, clo...|[into, thin, air,...|[bank, clouds, as...|[thin, air, perso...|\n",
            "|    518|Tuesdays with Morrie|Maybe it was a gr...| [maybe, it, was, ...|[tuesdays, with, ...|[maybe, grandpare...|  [tuesdays, morrie]|\n",
            "|   3781|Running with Scis...|The true story of...| [the, true, story...|[running, with, s...|[true, story, out...| [running, scissors]|\n",
            "|   3190|       Into the Wild|In April 1992 a y...| [in, april, 1992,...|   [into, the, wild]|[april, 1992, you...|              [wild]|\n",
            "|   3147|I Know Why the Ca...|\"Sent by their mo...| [sent, by, their,...|[i, know, why, th...|[sent, mother, li...|[know, caged, bir...|\n",
            "|    225|\"A Child Called \"...|               #1) \"|                  [1]|[a, child, called...|                 [1]|[child, called, d...|\n",
            "|   3035|Chickens, Mules a...|Perhaps if Joe an...| [perhaps, if, joe...|[chickens, mules,...|[perhaps, joe, vi...|[chickens, mules,...|\n",
            "|     99|Persepolis: The S...|Wise, funny, and ...| [wise, funny, and...|[persepolis, the,...|[wise, funny, hea...|[persepolis, stor...|\n",
            "|   3594|The Autobiography...|\"Through a life o...| [through, a, life...|[the, autobiograp...|[life, passion, s...|[autobiography, m...|\n",
            "|   4971|The Hiding Place:...|At one time Corri...| [at, one, time, c...|[the, hiding, pla...|[one, time, corri...|[hiding, place, t...|\n",
            "|   1381|All Creatures Gre...|Delve into the ma...| [delve, into, the...|[all, creatures, ...|[delve, magical, ...|[creatures, great...|\n",
            "|   3099|         Confessions|Augustine's Confe...| [augustine, s, co...|       [confessions]|[augustine, confe...|       [confessions]|\n",
            "|     45|Me Talk Pretty On...|David Sedaris' mo...| [david, sedaris, ...|[me, talk, pretty...|[david, sedaris, ...|[talk, pretty, on...|\n",
            "|   3269|Marley and Me: Li...|John and Jenny we...| [john, and, jenny...|[marley, and, me,...|[john, jenny, beg...|[marley, life, lo...|\n",
            "|   2786|          John Adams|The enthralling, ...| [the, enthralling...|       [john, adams]|[enthralling, oft...|       [john, adams]|\n",
            "|   4484|Man's Search for ...|\"Psychiatrist Vik...| [psychiatrist, vi...|[man, s, search, ...|[psychiatrist, vi...|[man, search, mea...|\n",
            "+-------+--------------------+--------------------+---------------------+--------------------+--------------------+--------------------+\n",
            "only showing top 20 rows\n",
            "\n"
          ]
        }
      ]
    },
    {
      "cell_type": "code",
      "source": [
        "new_df = data.select(\"desc_removedwords\",\"name_removedwords\")\n",
        "new_df.show()"
      ],
      "metadata": {
        "colab": {
          "base_uri": "https://localhost:8080/"
        },
        "id": "1qGNwDqGP2MJ",
        "outputId": "625e1d4e-455a-498b-894b-5007f7862c80"
      },
      "execution_count": null,
      "outputs": [
        {
          "output_type": "stream",
          "name": "stdout",
          "text": [
            "+--------------------+--------------------+\n",
            "|   desc_removedwords|   name_removedwords|\n",
            "+--------------------+--------------------+\n",
            "|[tender, moving, ...|     [glass, castle]|\n",
            "|[born, jewish, gh...|[night, night, tr...|\n",
            "|[imbued, every, p...|[angela, ashes, f...|\n",
            "|[celebrated, writ...|   [eat, pray, love]|\n",
            "|[bank, clouds, as...|[thin, air, perso...|\n",
            "|[maybe, grandpare...|  [tuesdays, morrie]|\n",
            "|[true, story, out...| [running, scissors]|\n",
            "|[april, 1992, you...|              [wild]|\n",
            "|[sent, mother, li...|[know, caged, bir...|\n",
            "|                 [1]|[child, called, d...|\n",
            "|[perhaps, joe, vi...|[chickens, mules,...|\n",
            "|[wise, funny, hea...|[persepolis, stor...|\n",
            "|[life, passion, s...|[autobiography, m...|\n",
            "|[one, time, corri...|[hiding, place, t...|\n",
            "|[delve, magical, ...|[creatures, great...|\n",
            "|[augustine, confe...|       [confessions]|\n",
            "|[david, sedaris, ...|[talk, pretty, on...|\n",
            "|[john, jenny, beg...|[marley, life, lo...|\n",
            "|[enthralling, oft...|       [john, adams]|\n",
            "|[psychiatrist, vi...|[man, search, mea...|\n",
            "+--------------------+--------------------+\n",
            "only showing top 20 rows\n",
            "\n"
          ]
        }
      ]
    },
    {
      "cell_type": "code",
      "source": [
        "# Convert the description column into a numerical representation using CountVectorizer\n",
        "cv = CountVectorizer(inputCol=\"desc_removedwords\", outputCol=\"features\")\n",
        "cvModel = cv.fit(new_df)\n",
        "numericData = cvModel.transform(new_df)\n",
        "\n",
        "cv = CountVectorizer(inputCol=\"name_removedwords\", outputCol=\"name_features\")\n",
        "cvModel = cv.fit(new_df)\n",
        "numericData = cvModel.transform(new_df)\n",
        "\n",
        "numericData.show()"
      ],
      "metadata": {
        "colab": {
          "base_uri": "https://localhost:8080/"
        },
        "id": "gfQApzW4MFmD",
        "outputId": "5478ae54-e1e0-41ef-a9a7-c47b4fa0ccd2"
      },
      "execution_count": null,
      "outputs": [
        {
          "output_type": "stream",
          "name": "stdout",
          "text": [
            "+--------------------+--------------------+--------------------+\n",
            "|   desc_removedwords|   name_removedwords|            features|\n",
            "+--------------------+--------------------+--------------------+\n",
            "|[tender, moving, ...|     [glass, castle]|(3182,[1,13,14,17...|\n",
            "|[born, jewish, gh...|[night, night, tr...|(3182,[2,6,14,28,...|\n",
            "|[imbued, every, p...|[angela, ashes, f...|(3182,[0,41,217,7...|\n",
            "|[celebrated, writ...|   [eat, pray, love]|(3182,[1,350,359,...|\n",
            "|[bank, clouds, as...|[thin, air, perso...|(3182,[141,406,50...|\n",
            "|[maybe, grandpare...|  [tuesdays, morrie]|(3182,[15,23,26,1...|\n",
            "|[true, story, out...| [running, scissors]|(3182,[7,53,69,83...|\n",
            "|[april, 1992, you...|              [wild]|(3182,[1,3,5,7,14...|\n",
            "|[sent, mother, li...|[know, caged, bir...|(3182,[15,40,72,9...|\n",
            "|                 [1]|[child, called, d...|  (3182,[367],[1.0])|\n",
            "|[perhaps, joe, vi...|[chickens, mules,...|(3182,[0,1,7,13,1...|\n",
            "|[wise, funny, hea...|[persepolis, stor...|(3182,[1,2,7,15,2...|\n",
            "|[life, passion, s...|[autobiography, m...|(3182,[1,2,28,103...|\n",
            "|[one, time, corri...|[hiding, place, t...|(3182,[1,2,7,8,15...|\n",
            "|[delve, magical, ...|[creatures, great...|(3182,[6,224,620,...|\n",
            "|[augustine, confe...|       [confessions]|(3182,[1,2,3,8,10...|\n",
            "|[david, sedaris, ...|[talk, pretty, on...|(3182,[2,3,14,41,...|\n",
            "|[john, jenny, beg...|[marley, life, lo...|(3182,[1,6,17,58,...|\n",
            "|[enthralling, oft...|       [john, adams]|(3182,[2,7,56,219...|\n",
            "|[psychiatrist, vi...|[man, search, mea...|(3182,[1,16,24,32...|\n",
            "+--------------------+--------------------+--------------------+\n",
            "only showing top 20 rows\n",
            "\n"
          ]
        }
      ]
    },
    {
      "cell_type": "code",
      "source": [
        "from pyspark.ml.feature import StringIndexer, IndexToString"
      ],
      "metadata": {
        "id": "VLekuF3oXUtq"
      },
      "execution_count": null,
      "outputs": []
    },
    {
      "cell_type": "code",
      "source": [
        "from pyspark.ml.clustering import KMeans\n",
        "\n",
        "# Split the data into training and testing sets\n",
        "training_data = numericData.limit(135)\n",
        "test_data = numericData.subtract(training_data)\n"
      ],
      "metadata": {
        "id": "c2J22i7nT6cM"
      },
      "execution_count": null,
      "outputs": []
    },
    {
      "cell_type": "code",
      "source": [
        "#define k-means model\n",
        "# Train the KMeans model\n",
        "kmeans = KMeans(k=10, seed=1)\n",
        "model = kmeans.fit(training_data)"
      ],
      "metadata": {
        "id": "nGXiCOPHT6cM"
      },
      "execution_count": null,
      "outputs": []
    },
    {
      "cell_type": "code",
      "source": [
        "# Predict the cluster for each data point in the testing set\n",
        "predictions = model.transform(test_data)"
      ],
      "metadata": {
        "id": "oTawv9P5T6cN"
      },
      "execution_count": null,
      "outputs": []
    },
    {
      "cell_type": "code",
      "source": [
        "from pyspark.ml.feature import VectorAssembler\n"
      ],
      "metadata": {
        "id": "N5LdsqdGT6cN"
      },
      "execution_count": null,
      "outputs": []
    },
    {
      "cell_type": "code",
      "source": [
        "cluster_centers = model.clusterCenters()\n",
        "for i in range(3):\n",
        "    print(\"Cluster \", i+1, \":\")\n",
        "    print(cluster_centers[i])"
      ],
      "metadata": {
        "colab": {
          "base_uri": "https://localhost:8080/"
        },
        "id": "lkxIUGsWVZA4",
        "outputId": "bbae46ee-2dcb-4a1c-9d95-b39e75426789"
      },
      "execution_count": null,
      "outputs": [
        {
          "output_type": "stream",
          "name": "stdout",
          "text": [
            "Cluster  1 :\n",
            "[0.2601626  0.31707317 0.26829268 ... 0.00813008 0.00813008 0.00813008]\n",
            "Cluster  2 :\n",
            "[0. 0. 0. ... 0. 0. 0.]\n",
            "Cluster  3 :\n",
            "[2. 0. 0. ... 0. 0. 0.]\n"
          ]
        }
      ]
    },
    {
      "cell_type": "code",
      "source": [
        "from pyspark.ml.linalg import Vectors"
      ],
      "metadata": {
        "id": "wY3vHhcEMF2X"
      },
      "execution_count": null,
      "outputs": []
    },
    {
      "cell_type": "code",
      "source": [
        "\n",
        "# Predict the cluster label for the 136th book\n",
        "book_136 = test_data.take(1)[0]  # get the row for the 136th book\n",
        "book_136_features = [book_136[col] for col in numericData.columns]  # get the features for the 136th book\n",
        "book_136_features_vector = Vectors.dense(book_136_features)  # convert the features to a dense vector\n",
        "cluster_label = model.predict(book_136_features_vector)  # predict the cluster label for the 136th book\n",
        "\n",
        "# Print the cluster label for the 136th book\n",
        "print(\"The 136th book belongs to cluster {}\".format(cluster_label))"
      ],
      "metadata": {
        "colab": {
          "base_uri": "https://localhost:8080/",
          "height": 398
        },
        "id": "pgRlM7vKMF40",
        "outputId": "2547be80-3a47-4e7e-9231-78ef6603c83b"
      },
      "execution_count": null,
      "outputs": [
        {
          "output_type": "error",
          "ename": "ValueError",
          "evalue": "ignored",
          "traceback": [
            "\u001b[0;31m---------------------------------------------------------------------------\u001b[0m",
            "\u001b[0;31mValueError\u001b[0m                                Traceback (most recent call last)",
            "\u001b[0;32m<ipython-input-54-7b71a5e761c3>\u001b[0m in \u001b[0;36m<module>\u001b[0;34m\u001b[0m\n\u001b[1;32m      2\u001b[0m \u001b[0mbook_136\u001b[0m \u001b[0;34m=\u001b[0m \u001b[0mtest_data\u001b[0m\u001b[0;34m.\u001b[0m\u001b[0mtake\u001b[0m\u001b[0;34m(\u001b[0m\u001b[0;36m1\u001b[0m\u001b[0;34m)\u001b[0m\u001b[0;34m[\u001b[0m\u001b[0;36m0\u001b[0m\u001b[0;34m]\u001b[0m  \u001b[0;31m# get the row for the 136th book\u001b[0m\u001b[0;34m\u001b[0m\u001b[0;34m\u001b[0m\u001b[0m\n\u001b[1;32m      3\u001b[0m \u001b[0mbook_136_features\u001b[0m \u001b[0;34m=\u001b[0m \u001b[0;34m[\u001b[0m\u001b[0mbook_136\u001b[0m\u001b[0;34m[\u001b[0m\u001b[0mcol\u001b[0m\u001b[0;34m]\u001b[0m \u001b[0;32mfor\u001b[0m \u001b[0mcol\u001b[0m \u001b[0;32min\u001b[0m \u001b[0mnumericData\u001b[0m\u001b[0;34m.\u001b[0m\u001b[0mcolumns\u001b[0m\u001b[0;34m]\u001b[0m  \u001b[0;31m# get the features for the 136th book\u001b[0m\u001b[0;34m\u001b[0m\u001b[0;34m\u001b[0m\u001b[0m\n\u001b[0;32m----> 4\u001b[0;31m \u001b[0mbook_136_features_vector\u001b[0m \u001b[0;34m=\u001b[0m \u001b[0mVectors\u001b[0m\u001b[0;34m.\u001b[0m\u001b[0mdense\u001b[0m\u001b[0;34m(\u001b[0m\u001b[0mbook_136_features\u001b[0m\u001b[0;34m)\u001b[0m  \u001b[0;31m# convert the features to a dense vector\u001b[0m\u001b[0;34m\u001b[0m\u001b[0;34m\u001b[0m\u001b[0m\n\u001b[0m\u001b[1;32m      5\u001b[0m \u001b[0mcluster_label\u001b[0m \u001b[0;34m=\u001b[0m \u001b[0mmodel\u001b[0m\u001b[0;34m.\u001b[0m\u001b[0mpredict\u001b[0m\u001b[0;34m(\u001b[0m\u001b[0mbook_136_features_vector\u001b[0m\u001b[0;34m)\u001b[0m  \u001b[0;31m# predict the cluster label for the 136th book\u001b[0m\u001b[0;34m\u001b[0m\u001b[0;34m\u001b[0m\u001b[0m\n\u001b[1;32m      6\u001b[0m \u001b[0;34m\u001b[0m\u001b[0m\n",
            "\u001b[0;32m/usr/local/lib/python3.8/dist-packages/pyspark/ml/linalg/__init__.py\u001b[0m in \u001b[0;36mdense\u001b[0;34m(*elements)\u001b[0m\n\u001b[1;32m    963\u001b[0m             \u001b[0;31m# it's list, numpy.array or other iterable object.\u001b[0m\u001b[0;34m\u001b[0m\u001b[0;34m\u001b[0m\u001b[0;34m\u001b[0m\u001b[0m\n\u001b[1;32m    964\u001b[0m             \u001b[0melements\u001b[0m \u001b[0;34m=\u001b[0m \u001b[0melements\u001b[0m\u001b[0;34m[\u001b[0m\u001b[0;36m0\u001b[0m\u001b[0;34m]\u001b[0m  \u001b[0;31m# type: ignore[assignment]\u001b[0m\u001b[0;34m\u001b[0m\u001b[0;34m\u001b[0m\u001b[0m\n\u001b[0;32m--> 965\u001b[0;31m         \u001b[0;32mreturn\u001b[0m \u001b[0mDenseVector\u001b[0m\u001b[0;34m(\u001b[0m\u001b[0mcast\u001b[0m\u001b[0;34m(\u001b[0m\u001b[0mIterable\u001b[0m\u001b[0;34m[\u001b[0m\u001b[0mfloat\u001b[0m\u001b[0;34m]\u001b[0m\u001b[0;34m,\u001b[0m \u001b[0melements\u001b[0m\u001b[0;34m)\u001b[0m\u001b[0;34m)\u001b[0m\u001b[0;34m\u001b[0m\u001b[0;34m\u001b[0m\u001b[0m\n\u001b[0m\u001b[1;32m    966\u001b[0m \u001b[0;34m\u001b[0m\u001b[0m\n\u001b[1;32m    967\u001b[0m     \u001b[0;34m@\u001b[0m\u001b[0mstaticmethod\u001b[0m\u001b[0;34m\u001b[0m\u001b[0;34m\u001b[0m\u001b[0m\n",
            "\u001b[0;32m/usr/local/lib/python3.8/dist-packages/pyspark/ml/linalg/__init__.py\u001b[0m in \u001b[0;36m__init__\u001b[0;34m(self, ar)\u001b[0m\n\u001b[1;32m    332\u001b[0m             \u001b[0mar_\u001b[0m \u001b[0;34m=\u001b[0m \u001b[0mnp\u001b[0m\u001b[0;34m.\u001b[0m\u001b[0mfrombuffer\u001b[0m\u001b[0;34m(\u001b[0m\u001b[0mar\u001b[0m\u001b[0;34m,\u001b[0m \u001b[0mdtype\u001b[0m\u001b[0;34m=\u001b[0m\u001b[0mnp\u001b[0m\u001b[0;34m.\u001b[0m\u001b[0mfloat64\u001b[0m\u001b[0;34m)\u001b[0m\u001b[0;34m\u001b[0m\u001b[0;34m\u001b[0m\u001b[0m\n\u001b[1;32m    333\u001b[0m         \u001b[0;32melif\u001b[0m \u001b[0;32mnot\u001b[0m \u001b[0misinstance\u001b[0m\u001b[0;34m(\u001b[0m\u001b[0mar\u001b[0m\u001b[0;34m,\u001b[0m \u001b[0mnp\u001b[0m\u001b[0;34m.\u001b[0m\u001b[0mndarray\u001b[0m\u001b[0;34m)\u001b[0m\u001b[0;34m:\u001b[0m\u001b[0;34m\u001b[0m\u001b[0;34m\u001b[0m\u001b[0m\n\u001b[0;32m--> 334\u001b[0;31m             \u001b[0mar_\u001b[0m \u001b[0;34m=\u001b[0m \u001b[0mnp\u001b[0m\u001b[0;34m.\u001b[0m\u001b[0marray\u001b[0m\u001b[0;34m(\u001b[0m\u001b[0mar\u001b[0m\u001b[0;34m,\u001b[0m \u001b[0mdtype\u001b[0m\u001b[0;34m=\u001b[0m\u001b[0mnp\u001b[0m\u001b[0;34m.\u001b[0m\u001b[0mfloat64\u001b[0m\u001b[0;34m)\u001b[0m\u001b[0;34m\u001b[0m\u001b[0;34m\u001b[0m\u001b[0m\n\u001b[0m\u001b[1;32m    335\u001b[0m         \u001b[0;32melse\u001b[0m\u001b[0;34m:\u001b[0m\u001b[0;34m\u001b[0m\u001b[0;34m\u001b[0m\u001b[0m\n\u001b[1;32m    336\u001b[0m             \u001b[0mar_\u001b[0m \u001b[0;34m=\u001b[0m \u001b[0mar\u001b[0m\u001b[0;34m.\u001b[0m\u001b[0mastype\u001b[0m\u001b[0;34m(\u001b[0m\u001b[0mnp\u001b[0m\u001b[0;34m.\u001b[0m\u001b[0mfloat64\u001b[0m\u001b[0;34m)\u001b[0m \u001b[0;32mif\u001b[0m \u001b[0mar\u001b[0m\u001b[0;34m.\u001b[0m\u001b[0mdtype\u001b[0m \u001b[0;34m!=\u001b[0m \u001b[0mnp\u001b[0m\u001b[0;34m.\u001b[0m\u001b[0mfloat64\u001b[0m \u001b[0;32melse\u001b[0m \u001b[0mar\u001b[0m\u001b[0;34m\u001b[0m\u001b[0;34m\u001b[0m\u001b[0m\n",
            "\u001b[0;31mValueError\u001b[0m: setting an array element with a sequence. The requested array has an inhomogeneous shape after 1 dimensions. The detected shape was (3,) + inhomogeneous part."
          ]
        }
      ]
    },
    {
      "cell_type": "code",
      "source": [
        "import matplotlib.pyplot as plt\n",
        "import pandas as pd\n",
        "from pyspark.sql.functions import col\n",
        "\n",
        "# Predict the cluster labels for each data point\n",
        "predictions = model.transform(numericData).select('features', 'name_removedwords')\n",
        "\n",
        "# Convert the predictions DataFrame to a Pandas DataFrame\n",
        "pdf = predictions.toPandas()\n",
        "\n",
        "# Extract the features and cluster labels from the Pandas DataFrame\n",
        "X = pdf['features'].apply(lambda x: x.toArray()).tolist()\n",
        "y = pdf['name_removedwords'].tolist()\n",
        "\n",
        "# Convert the features and cluster labels to a new Pandas DataFrame\n",
        "df = pd.DataFrame({'x': [x[0] for x in X], 'y': [x[1] for x in X], 'cluster': y})\n",
        "\n",
        "# Create a scatter plot of the first 5 clusters\n",
        "fig, ax = plt.subplots()\n",
        "for i in range(5):\n",
        "    data = df[df['cluster'] == i]\n",
        "    ax.scatter(data['x'], data['y'], label=f'Cluster {i}', alpha=0.5)\n",
        "ax.legend()\n",
        "display(fig)\n",
        "\n"
      ],
      "metadata": {
        "colab": {
          "base_uri": "https://localhost:8080/",
          "height": 513
        },
        "id": "SokMuWsqMF7f",
        "outputId": "54ba53bf-e45c-4080-9306-ec166b531d68"
      },
      "execution_count": null,
      "outputs": [
        {
          "output_type": "display_data",
          "data": {
            "text/plain": [
              "<Figure size 432x288 with 1 Axes>"
            ],
            "image/png": "[encoded data removed]"
          },
          "metadata": {}
        },
        {
          "output_type": "display_data",
          "data": {
            "text/plain": [
              "<Figure size 432x288 with 1 Axes>"
            ],
            "image/png": "[encoded data removed]"
          },
          "metadata": {
            "needs_background": "light"
          }
        }
      ]
    },
    {
      "cell_type": "code",
      "source": [],
      "metadata": {
        "id": "cnqYIrsTMGBW"
      },
      "execution_count": null,
      "outputs": []
    },
    {
      "cell_type": "code",
      "source": [],
      "metadata": {
        "id": "2k9fWB-HMGEu"
      },
      "execution_count": null,
      "outputs": []
    },
    {
      "cell_type": "code",
      "source": [],
      "metadata": {
        "id": "VJlrYpD0MGGv"
      },
      "execution_count": null,
      "outputs": []
    },
    {
      "cell_type": "code",
      "source": [],
      "metadata": {
        "id": "9i6sTb82MGJF"
      },
      "execution_count": null,
      "outputs": []
    },
    {
      "cell_type": "code",
      "source": [],
      "metadata": {
        "id": "86C4mpDOMGME"
      },
      "execution_count": null,
      "outputs": []
    },
    {
      "cell_type": "code",
      "source": [
        "from pyspark.ml.feature import VectorAssembler, StringIndexer\n",
        "\n",
        "# Convert string columns to numerical values\n",
        "\n",
        "indexer = StringIndexer(inputCol=\"name\", outputCol=\"name_numeric\")\n",
        "data_set = indexer.fit(data_set).transform(data_set)"
      ],
      "metadata": {
        "id": "IHpEo1JplNf6"
      },
      "execution_count": null,
      "outputs": []
    },
    {
      "cell_type": "code",
      "source": [
        "indexer = StringIndexer(inputCol=\"description\", outputCol=\"description_numeric\")\n",
        "dataset = indexer.fit(data_set).transform(data_set)"
      ],
      "metadata": {
        "id": "Qy154R9PU1cs"
      },
      "execution_count": null,
      "outputs": []
    },
    {
      "cell_type": "code",
      "source": [
        "dataset.show()"
      ],
      "metadata": {
        "colab": {
          "base_uri": "https://localhost:8080/"
        },
        "id": "fQnBqdGsll_L",
        "outputId": "0a72c4c1-e6e0-4502-8701-12e138b0c5a9"
      },
      "execution_count": null,
      "outputs": [
        {
          "output_type": "stream",
          "name": "stdout",
          "text": [
            "+-------+--------------------+--------------------+------------+-------------------+\n",
            "|book_id|                name|         description|name_numeric|description_numeric|\n",
            "+-------+--------------------+--------------------+------------+-------------------+\n",
            "|   4833|    The Glass Castle|A tender, moving ...|       104.0|               39.0|\n",
            "|    590|Night (The Night ...|Born into a Jewis...|        73.0|               52.0|\n",
            "|   4264|Angela's Ashes (F...|Imbued on every p...|        20.0|               67.0|\n",
            "|   3361|    Eat, Pray, Love |A celebrated writ...|        36.0|               34.0|\n",
            "|   4535|Into Thin Air: A ...|\"A bank of clouds...|        53.0|               16.0|\n",
            "|    518|Tuesdays with Morrie|Maybe it was a gr...|       117.0|               78.0|\n",
            "|   3781|Running with Scis...|The true story of...|        90.0|               97.0|\n",
            "|   3190|       Into the Wild|In April 1992 a y...|        54.0|               68.0|\n",
            "|   3147|I Know Why the Ca...|\"Sent by their mo...|        48.0|               24.0|\n",
            "|    225|\"A Child Called \"...|               #1) \"|        12.0|               12.0|\n",
            "|   3035|Chickens, Mules a...|Perhaps if Joe an...|        29.0|               85.0|\n",
            "|     99|Persepolis: The S...|Wise, funny, and ...|        83.0|              119.0|\n",
            "|   3594|The Autobiography...|\"Through a life o...|       100.0|               30.0|\n",
            "|   4971|The Hiding Place:...|At one time Corri...|       107.0|               44.0|\n",
            "|   1381|All Creatures Gre...|Delve into the ma...|        17.0|               57.0|\n",
            "|   3099|         Confessions|Augustine's Confe...|         3.0|               47.0|\n",
            "|     45|Me Talk Pretty On...|David Sedaris' mo...|        66.0|               56.0|\n",
            "|   3269|Marley and Me: Li...|John and Jenny we...|        63.0|               74.0|\n",
            "|   2786|          John Adams|The enthralling, ...|        56.0|               90.0|\n",
            "|   4484|Man's Search for ...|\"Psychiatrist Vik...|        61.0|               21.0|\n",
            "+-------+--------------------+--------------------+------------+-------------------+\n",
            "only showing top 20 rows\n",
            "\n"
          ]
        }
      ]
    },
    {
      "cell_type": "code",
      "source": [
        "from pyspark.ml.feature import OneHotEncoder, StringIndexer\n",
        "from pyspark.sql import SparkSession\n"
      ],
      "metadata": {
        "id": "nLj_CneQKJAi"
      },
      "execution_count": null,
      "outputs": []
    },
    {
      "cell_type": "code",
      "source": [
        "# Preprocess the data\n",
        "assembler = VectorAssembler(inputCols=[\"name_numeric\", \"description_numeric\"], outputCol=\"features\")\n",
        "df = assembler.transform(dataset)\n"
      ],
      "metadata": {
        "id": "_68te5VwlBCc"
      },
      "execution_count": null,
      "outputs": []
    },
    {
      "cell_type": "code",
      "source": [
        "df=df.drop('name')"
      ],
      "metadata": {
        "id": "KdGyubtZSYcA"
      },
      "execution_count": null,
      "outputs": []
    },
    {
      "cell_type": "code",
      "source": [
        "df=df.drop('description')"
      ],
      "metadata": {
        "id": "yyYv2v0oSdSe"
      },
      "execution_count": null,
      "outputs": []
    },
    {
      "cell_type": "code",
      "source": [
        "df.show()"
      ],
      "metadata": {
        "colab": {
          "base_uri": "https://localhost:8080/"
        },
        "id": "-UXdtI2fl2zo",
        "outputId": "fda303fe-b77c-42d8-bdef-d33c91164821"
      },
      "execution_count": null,
      "outputs": [
        {
          "output_type": "stream",
          "name": "stdout",
          "text": [
            "+-------+------------+-------------------+------------+\n",
            "|book_id|name_numeric|description_numeric|    features|\n",
            "+-------+------------+-------------------+------------+\n",
            "|   4833|       104.0|               39.0|[104.0,39.0]|\n",
            "|    590|        73.0|               52.0| [73.0,52.0]|\n",
            "|   4264|        20.0|               67.0| [20.0,67.0]|\n",
            "|   3361|        36.0|               34.0| [36.0,34.0]|\n",
            "|   4535|        53.0|               16.0| [53.0,16.0]|\n",
            "|    518|       117.0|               78.0|[117.0,78.0]|\n",
            "|   3781|        90.0|               97.0| [90.0,97.0]|\n",
            "|   3190|        54.0|               68.0| [54.0,68.0]|\n",
            "|   3147|        48.0|               24.0| [48.0,24.0]|\n",
            "|    225|        12.0|               12.0| [12.0,12.0]|\n",
            "|   3035|        29.0|               85.0| [29.0,85.0]|\n",
            "|     99|        83.0|              119.0|[83.0,119.0]|\n",
            "|   3594|       100.0|               30.0|[100.0,30.0]|\n",
            "|   4971|       107.0|               44.0|[107.0,44.0]|\n",
            "|   1381|        17.0|               57.0| [17.0,57.0]|\n",
            "|   3099|         3.0|               47.0|  [3.0,47.0]|\n",
            "|     45|        66.0|               56.0| [66.0,56.0]|\n",
            "|   3269|        63.0|               74.0| [63.0,74.0]|\n",
            "|   2786|        56.0|               90.0| [56.0,90.0]|\n",
            "|   4484|        61.0|               21.0| [61.0,21.0]|\n",
            "+-------+------------+-------------------+------------+\n",
            "only showing top 20 rows\n",
            "\n"
          ]
        }
      ]
    },
    {
      "cell_type": "code",
      "source": [
        "from pyspark.ml.clustering import KMeans\n",
        "\n",
        "# Split the data into training and testing sets\n",
        "training_data = df.limit(137)\n",
        "test_data = df.subtract(training_data)\n"
      ],
      "metadata": {
        "id": "46-N6k4_j_pk"
      },
      "execution_count": null,
      "outputs": []
    },
    {
      "cell_type": "code",
      "source": [
        "#define k-means model\n",
        "# Train the KMeans model\n",
        "kmeans = KMeans(k=10, seed=1)\n",
        "model = kmeans.fit(training_data)"
      ],
      "metadata": {
        "id": "8zskNXGxkdn6"
      },
      "execution_count": null,
      "outputs": []
    },
    {
      "cell_type": "code",
      "source": [
        "# Predict the cluster for each data point in the testing set\n",
        "predictions = model.transform(test_data)"
      ],
      "metadata": {
        "id": "WNxIMjDJbp8Y"
      },
      "execution_count": null,
      "outputs": []
    },
    {
      "cell_type": "code",
      "source": [
        "from pyspark.ml.feature import VectorAssembler\n"
      ],
      "metadata": {
        "id": "gRkiyAxwZvGQ"
      },
      "execution_count": null,
      "outputs": []
    },
    {
      "cell_type": "code",
      "source": [
        "# Get the terms found in the first three clusters\n",
        "cluster_centers = model.clusterCenters()\n",
        "for i in range(3):\n",
        "    print(\"Cluster \", i+1, \":\")\n",
        "    print(cluster_centers[i])"
      ],
      "metadata": {
        "colab": {
          "base_uri": "https://localhost:8080/"
        },
        "id": "BPOgfMGfLeln",
        "outputId": "9d472675-63e7-4e67-ed62-7819839d45ed"
      },
      "execution_count": null,
      "outputs": [
        {
          "output_type": "stream",
          "name": "stdout",
          "text": [
            "Cluster  1 :\n",
            "[ 55.23076923 100.38461538]\n",
            "Cluster  2 :\n",
            "[6.10714286 5.71428571]\n",
            "Cluster  3 :\n",
            "[103.5         34.21428571]\n"
          ]
        }
      ]
    },
    {
      "cell_type": "code",
      "source": [
        "# Pick the 136th book\n",
        "if len(df.collect()) > 135:\n",
        "    test_data = df.filter(f\"book_Id == {135}\").select(\"features\")\n",
        "    test_vector = training_data.rdd.map(lambda row: row[0]).first()\n",
        "    predictions = model.predict(test_vector)\n",
        "    print(f\"The 136th book belongs to cluster {predictions}\")\n",
        "else:\n",
        "    print(\"There are not enough books to make a prediction for the 136th book\")"
      ],
      "metadata": {
        "colab": {
          "base_uri": "https://localhost:8080/",
          "height": 555
        },
        "id": "SRxJEPAreuQ-",
        "outputId": "614e952d-e243-4dc8-960b-56a95d0a9532"
      },
      "execution_count": null,
      "outputs": [
        {
          "output_type": "error",
          "ename": "Py4JError",
          "evalue": "ignored",
          "traceback": [
            "\u001b[0;31m---------------------------------------------------------------------------\u001b[0m",
            "\u001b[0;31mPy4JError\u001b[0m                                 Traceback (most recent call last)",
            "\u001b[0;32m<ipython-input-75-a76ea082868f>\u001b[0m in \u001b[0;36m<module>\u001b[0;34m\u001b[0m\n\u001b[1;32m      3\u001b[0m     \u001b[0mtest_data\u001b[0m \u001b[0;34m=\u001b[0m \u001b[0mdf\u001b[0m\u001b[0;34m.\u001b[0m\u001b[0mfilter\u001b[0m\u001b[0;34m(\u001b[0m\u001b[0;34mf\"book_Id == {135}\"\u001b[0m\u001b[0;34m)\u001b[0m\u001b[0;34m.\u001b[0m\u001b[0mselect\u001b[0m\u001b[0;34m(\u001b[0m\u001b[0;34m\"features\"\u001b[0m\u001b[0;34m)\u001b[0m\u001b[0;34m\u001b[0m\u001b[0;34m\u001b[0m\u001b[0m\n\u001b[1;32m      4\u001b[0m     \u001b[0mtest_vector\u001b[0m \u001b[0;34m=\u001b[0m \u001b[0mtraining_data\u001b[0m\u001b[0;34m.\u001b[0m\u001b[0mrdd\u001b[0m\u001b[0;34m.\u001b[0m\u001b[0mmap\u001b[0m\u001b[0;34m(\u001b[0m\u001b[0;32mlambda\u001b[0m \u001b[0mrow\u001b[0m\u001b[0;34m:\u001b[0m \u001b[0mrow\u001b[0m\u001b[0;34m[\u001b[0m\u001b[0;36m0\u001b[0m\u001b[0;34m]\u001b[0m\u001b[0;34m)\u001b[0m\u001b[0;34m.\u001b[0m\u001b[0mfirst\u001b[0m\u001b[0;34m(\u001b[0m\u001b[0;34m)\u001b[0m\u001b[0;34m\u001b[0m\u001b[0;34m\u001b[0m\u001b[0m\n\u001b[0;32m----> 5\u001b[0;31m     \u001b[0mpredictions\u001b[0m \u001b[0;34m=\u001b[0m \u001b[0mmodel\u001b[0m\u001b[0;34m.\u001b[0m\u001b[0mpredict\u001b[0m\u001b[0;34m(\u001b[0m\u001b[0mtest_vector\u001b[0m\u001b[0;34m)\u001b[0m\u001b[0;34m\u001b[0m\u001b[0;34m\u001b[0m\u001b[0m\n\u001b[0m\u001b[1;32m      6\u001b[0m     \u001b[0mprint\u001b[0m\u001b[0;34m(\u001b[0m\u001b[0;34mf\"The 136th book belongs to cluster {predictions}\"\u001b[0m\u001b[0;34m)\u001b[0m\u001b[0;34m\u001b[0m\u001b[0;34m\u001b[0m\u001b[0m\n\u001b[1;32m      7\u001b[0m \u001b[0;32melse\u001b[0m\u001b[0;34m:\u001b[0m\u001b[0;34m\u001b[0m\u001b[0;34m\u001b[0m\u001b[0m\n",
            "\u001b[0;32m/usr/local/lib/python3.8/dist-packages/pyspark/ml/clustering.py\u001b[0m in \u001b[0;36mpredict\u001b[0;34m(self, value)\u001b[0m\n\u001b[1;32m    685\u001b[0m         \u001b[0mPredict\u001b[0m \u001b[0mlabel\u001b[0m \u001b[0;32mfor\u001b[0m \u001b[0mthe\u001b[0m \u001b[0mgiven\u001b[0m \u001b[0mfeatures\u001b[0m\u001b[0;34m.\u001b[0m\u001b[0;34m\u001b[0m\u001b[0;34m\u001b[0m\u001b[0m\n\u001b[1;32m    686\u001b[0m         \"\"\"\n\u001b[0;32m--> 687\u001b[0;31m         \u001b[0;32mreturn\u001b[0m \u001b[0mself\u001b[0m\u001b[0;34m.\u001b[0m\u001b[0m_call_java\u001b[0m\u001b[0;34m(\u001b[0m\u001b[0;34m\"predict\"\u001b[0m\u001b[0;34m,\u001b[0m \u001b[0mvalue\u001b[0m\u001b[0;34m)\u001b[0m\u001b[0;34m\u001b[0m\u001b[0;34m\u001b[0m\u001b[0m\n\u001b[0m\u001b[1;32m    688\u001b[0m \u001b[0;34m\u001b[0m\u001b[0m\n\u001b[1;32m    689\u001b[0m \u001b[0;34m\u001b[0m\u001b[0m\n",
            "\u001b[0;32m/usr/local/lib/python3.8/dist-packages/pyspark/ml/wrapper.py\u001b[0m in \u001b[0;36m_call_java\u001b[0;34m(self, name, *args)\u001b[0m\n\u001b[1;32m     70\u001b[0m \u001b[0;34m\u001b[0m\u001b[0m\n\u001b[1;32m     71\u001b[0m         \u001b[0mjava_args\u001b[0m \u001b[0;34m=\u001b[0m \u001b[0;34m[\u001b[0m\u001b[0m_py2java\u001b[0m\u001b[0;34m(\u001b[0m\u001b[0msc\u001b[0m\u001b[0;34m,\u001b[0m \u001b[0marg\u001b[0m\u001b[0;34m)\u001b[0m \u001b[0;32mfor\u001b[0m \u001b[0marg\u001b[0m \u001b[0;32min\u001b[0m \u001b[0margs\u001b[0m\u001b[0;34m]\u001b[0m\u001b[0;34m\u001b[0m\u001b[0;34m\u001b[0m\u001b[0m\n\u001b[0;32m---> 72\u001b[0;31m         \u001b[0;32mreturn\u001b[0m \u001b[0m_java2py\u001b[0m\u001b[0;34m(\u001b[0m\u001b[0msc\u001b[0m\u001b[0;34m,\u001b[0m \u001b[0mm\u001b[0m\u001b[0;34m(\u001b[0m\u001b[0;34m*\u001b[0m\u001b[0mjava_args\u001b[0m\u001b[0;34m)\u001b[0m\u001b[0;34m)\u001b[0m\u001b[0;34m\u001b[0m\u001b[0;34m\u001b[0m\u001b[0m\n\u001b[0m\u001b[1;32m     73\u001b[0m \u001b[0;34m\u001b[0m\u001b[0m\n\u001b[1;32m     74\u001b[0m     \u001b[0;34m@\u001b[0m\u001b[0mstaticmethod\u001b[0m\u001b[0;34m\u001b[0m\u001b[0;34m\u001b[0m\u001b[0m\n",
            "\u001b[0;32m/usr/local/lib/python3.8/dist-packages/py4j/java_gateway.py\u001b[0m in \u001b[0;36m__call__\u001b[0;34m(self, *args)\u001b[0m\n\u001b[1;32m   1319\u001b[0m \u001b[0;34m\u001b[0m\u001b[0m\n\u001b[1;32m   1320\u001b[0m         \u001b[0manswer\u001b[0m \u001b[0;34m=\u001b[0m \u001b[0mself\u001b[0m\u001b[0;34m.\u001b[0m\u001b[0mgateway_client\u001b[0m\u001b[0;34m.\u001b[0m\u001b[0msend_command\u001b[0m\u001b[0;34m(\u001b[0m\u001b[0mcommand\u001b[0m\u001b[0;34m)\u001b[0m\u001b[0;34m\u001b[0m\u001b[0;34m\u001b[0m\u001b[0m\n\u001b[0;32m-> 1321\u001b[0;31m         return_value = get_return_value(\n\u001b[0m\u001b[1;32m   1322\u001b[0m             answer, self.gateway_client, self.target_id, self.name)\n\u001b[1;32m   1323\u001b[0m \u001b[0;34m\u001b[0m\u001b[0m\n",
            "\u001b[0;32m/usr/local/lib/python3.8/dist-packages/pyspark/sql/utils.py\u001b[0m in \u001b[0;36mdeco\u001b[0;34m(*a, **kw)\u001b[0m\n\u001b[1;32m    188\u001b[0m     \u001b[0;32mdef\u001b[0m \u001b[0mdeco\u001b[0m\u001b[0;34m(\u001b[0m\u001b[0;34m*\u001b[0m\u001b[0ma\u001b[0m\u001b[0;34m:\u001b[0m \u001b[0mAny\u001b[0m\u001b[0;34m,\u001b[0m \u001b[0;34m**\u001b[0m\u001b[0mkw\u001b[0m\u001b[0;34m:\u001b[0m \u001b[0mAny\u001b[0m\u001b[0;34m)\u001b[0m \u001b[0;34m->\u001b[0m \u001b[0mAny\u001b[0m\u001b[0;34m:\u001b[0m\u001b[0;34m\u001b[0m\u001b[0;34m\u001b[0m\u001b[0m\n\u001b[1;32m    189\u001b[0m         \u001b[0;32mtry\u001b[0m\u001b[0;34m:\u001b[0m\u001b[0;34m\u001b[0m\u001b[0;34m\u001b[0m\u001b[0m\n\u001b[0;32m--> 190\u001b[0;31m             \u001b[0;32mreturn\u001b[0m \u001b[0mf\u001b[0m\u001b[0;34m(\u001b[0m\u001b[0;34m*\u001b[0m\u001b[0ma\u001b[0m\u001b[0;34m,\u001b[0m \u001b[0;34m**\u001b[0m\u001b[0mkw\u001b[0m\u001b[0;34m)\u001b[0m\u001b[0;34m\u001b[0m\u001b[0;34m\u001b[0m\u001b[0m\n\u001b[0m\u001b[1;32m    191\u001b[0m         \u001b[0;32mexcept\u001b[0m \u001b[0mPy4JJavaError\u001b[0m \u001b[0;32mas\u001b[0m \u001b[0me\u001b[0m\u001b[0;34m:\u001b[0m\u001b[0;34m\u001b[0m\u001b[0;34m\u001b[0m\u001b[0m\n\u001b[1;32m    192\u001b[0m             \u001b[0mconverted\u001b[0m \u001b[0;34m=\u001b[0m \u001b[0mconvert_exception\u001b[0m\u001b[0;34m(\u001b[0m\u001b[0me\u001b[0m\u001b[0;34m.\u001b[0m\u001b[0mjava_exception\u001b[0m\u001b[0;34m)\u001b[0m\u001b[0;34m\u001b[0m\u001b[0;34m\u001b[0m\u001b[0m\n",
            "\u001b[0;32m/usr/local/lib/python3.8/dist-packages/py4j/protocol.py\u001b[0m in \u001b[0;36mget_return_value\u001b[0;34m(answer, gateway_client, target_id, name)\u001b[0m\n\u001b[1;32m    328\u001b[0m                     format(target_id, \".\", name), value)\n\u001b[1;32m    329\u001b[0m             \u001b[0;32melse\u001b[0m\u001b[0;34m:\u001b[0m\u001b[0;34m\u001b[0m\u001b[0;34m\u001b[0m\u001b[0m\n\u001b[0;32m--> 330\u001b[0;31m                 raise Py4JError(\n\u001b[0m\u001b[1;32m    331\u001b[0m                     \u001b[0;34m\"An error occurred while calling {0}{1}{2}. Trace:\\n{3}\\n\"\u001b[0m\u001b[0;34m.\u001b[0m\u001b[0;34m\u001b[0m\u001b[0;34m\u001b[0m\u001b[0m\n\u001b[1;32m    332\u001b[0m                     format(target_id, \".\", name, value))\n",
            "\u001b[0;31mPy4JError\u001b[0m: An error occurred while calling o432.predict. Trace:\npy4j.Py4JException: Method predict([class java.lang.Integer]) does not exist\n\tat py4j.reflection.ReflectionEngine.getMethod(ReflectionEngine.java:318)\n\tat py4j.reflection.ReflectionEngine.getMethod(ReflectionEngine.java:326)\n\tat py4j.Gateway.invoke(Gateway.java:274)\n\tat py4j.commands.AbstractCommand.invokeMethod(AbstractCommand.java:132)\n\tat py4j.commands.CallCommand.execute(CallCommand.java:79)\n\tat py4j.ClientServerConnection.waitForCommands(ClientServerConnection.java:182)\n\tat py4j.ClientServerConnection.run(ClientServerConnection.java:106)\n\tat java.base/java.lang.Thread.run(Thread.java:829)\n\n"
          ]
        }
      ]
    }
  ]
}