{
  "nbformat": 4,
  "nbformat_minor": 0,
  "metadata": {
    "colab": {
      "provenance": [],
      "include_colab_link": true
    },
    "kernelspec": {
      "name": "python3",
      "display_name": "Python 3"
    },
    "language_info": {
      "name": "python"
    }
  },
  "cells": [
    {
      "cell_type": "markdown",
      "metadata": {
        "id": "view-in-github",
        "colab_type": "text"
      },
      "source": [
        "<a href=\"https://colab.research.google.com/github/BrendaGilisho/Clustering-techniques-in-data-mining/blob/main/cluster_links.ipynb\" target=\"_parent\"><img src=\"https://colab.research.google.com/assets/colab-badge.svg\" alt=\"Open In Colab\"/></a>"
      ]
    },
    {
      "cell_type": "code",
      "source": [
        "# Imports\n",
        "\n",
        "import requests\n",
        "import re\n",
        "from bs4 import BeautifulSoup\n",
        "from sklearn.feature_extraction.text import TfidfVectorizer\n",
        "from sklearn.cluster import KMeans"
      ],
      "metadata": {
        "id": "ggDlIpCOaAZ7"
      },
      "execution_count": null,
      "outputs": []
    },
    {
      "cell_type": "code",
      "execution_count": null,
      "metadata": {
        "id": "HFtExUWZlP0f"
      },
      "outputs": [],
      "source": [
        "## Functions\n",
        "\n",
        "def extract_text(url):\n",
        "    # Send a GET request to the URL and retrieve the response\n",
        "    response = requests.get(url)\n",
        "\n",
        "    # Check if the request was successful\n",
        "    if response.status_code == 200:\n",
        "        # Use BeautifulSoup to parse the HTML content of the page\n",
        "        soup = BeautifulSoup(response.content, 'html.parser')\n",
        "\n",
        "        # Find all of the text in the HTML document\n",
        "        text = soup.get_text()\n",
        "\n",
        "        # Return the text\n",
        "        return text\n",
        "    else:\n",
        "        # If the request was not successful, return an empty string\n",
        "        return ''\n",
        "\n",
        "\n",
        "def preprocess(texts):\n",
        "    preprocessed_texts = []\n",
        "    for text in texts:\n",
        "        try:\n",
        "            # clean and normalize the text as desired\n",
        "            article_text = text.lower().strip()\n",
        "            article_text = re.sub(r'[^a-zA-Z0-9\\s]', '', article_text)\n",
        "\n",
        "            preprocessed_texts.append(article_text)\n",
        "        except:\n",
        "            print(f\"Failed to preprocess text: {text}\")\n",
        "\n",
        "    return preprocessed_texts\n",
        "\n",
        "\n",
        "def cluster_news_articles(links):\n",
        "    # Extract the text from each of the links\n",
        "    texts = [extract_text(link) for link in links]\n",
        "\n",
        "    # Preprocess the text (e.g. remove stop words, stem words, etc.)\n",
        "    preprocessed_texts = preprocess(texts)\n",
        "\n",
        "    print(preprocessed_texts)\n",
        "\n",
        "    # Convert the preprocessed text into a matrix of TF-IDF features\n",
        "    vectorizer = TfidfVectorizer()\n",
        "    X = vectorizer.fit_transform(preprocessed_texts)\n",
        "\n",
        "    # Use KMeans to cluster the articles into groups based on their content\n",
        "    kmeans = KMeans(n_clusters=10, random_state=0)\n",
        "    kmeans.fit(X)\n",
        "\n",
        "    # Return the cluster labels for each article\n",
        "    return kmeans.labels_\n"
      ]
    },
    {
      "cell_type": "code",
      "source": [
        "# Main function\n",
        "\n",
        "if __name__ == '__main__':\n",
        "    # Provide a list of news article links\n",
        "    links = [\n",
        "        'https://www.gorillatoursafrica.com/things-to-do-in-kigali/',\n",
        "        'https://www.thetravelersbuddy.com/2022/08/30/best-things-rwanda/',\n",
        "        'https://www.silverbackgorillatours.com/rwanda/tourist-attractions-in-kigali',\n",
        "        'https://news.google.com/',\n",
        "        'https://edition.cnn.com/',\n",
        "        'https://www.nbcnews.com/',\n",
        "        'https://www.bbc.com/news',\n",
        "        'https://www.foxnews.com/',\n",
        "        'https://www.silverbackgorillatours.com/rwanda/tourist-attractions-in-kigali',\n",
        "        'https://news.google.com/',\n",
        "        'https://edition.cnn.com/',\n",
        "        'https://www.nbcnews.com/',\n",
        "    ]\n",
        "\n",
        "    # Display the cluster labels for each article\n",
        "    for cluster_label in set(cluster_labels):\n",
        "        print(f\"Cluster {cluster_label}:\")\n",
        "        for i, link in enumerate(links):\n",
        "            if cluster_labels[i] == cluster_label:\n",
        "                print(f\"\\tArticle {i + 1} ({link})\")\n",
        "        print(\"\\n\")\n"
      ],
      "metadata": {
        "colab": {
          "base_uri": "https://localhost:8080/"
        },
        "id": "mzHA3F4kZ6Ki",
        "outputId": "deef3ec3-8c69-489d-ee9e-eb30333b4b8d"
      },
      "execution_count": null,
      "outputs": [
        {
          "output_type": "stream",
          "name": "stdout",
          "text": [
            "Cluster 0:\n",
            "\tArticle 6 (https://www.nbcnews.com/)\n",
            "\tArticle 12 (https://www.nbcnews.com/)\n",
            "\n",
            "\n",
            "Cluster 1:\n",
            "\tArticle 4 (https://news.google.com/)\n",
            "\n",
            "\n",
            "Cluster 2:\n",
            "\tArticle 1 (https://www.gorillatoursafrica.com/things-to-do-in-kigali/)\n",
            "\tArticle 3 (https://www.silverbackgorillatours.com/rwanda/tourist-attractions-in-kigali)\n",
            "\tArticle 9 (https://www.silverbackgorillatours.com/rwanda/tourist-attractions-in-kigali)\n",
            "\n",
            "\n",
            "Cluster 3:\n",
            "\tArticle 5 (https://edition.cnn.com/)\n",
            "\tArticle 11 (https://edition.cnn.com/)\n",
            "\n",
            "\n",
            "Cluster 4:\n",
            "\tArticle 8 (https://www.foxnews.com/)\n",
            "\n",
            "\n",
            "Cluster 5:\n",
            "\tArticle 2 (https://www.thetravelersbuddy.com/2022/08/30/best-things-rwanda/)\n",
            "\n",
            "\n",
            "Cluster 6:\n",
            "\tArticle 7 (https://www.bbc.com/news)\n",
            "\n",
            "\n",
            "Cluster 7:\n",
            "\tArticle 10 (https://news.google.com/)\n",
            "\n",
            "\n"
          ]
        }
      ]
    }
  ]
}